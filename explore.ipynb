{
 "cells": [
  {
   "cell_type": "code",
   "execution_count": 15,
   "metadata": {},
   "outputs": [],
   "source": [
    "import numpy as np\n",
    "import pandas as pd\n",
    "import statsmodels.api as sm\n",
    "from sklearn.datasets import make_regression\n",
    "from sklearn.model_selection import KFold\n",
    "from itertools import combinations\n",
    "\n"
   ]
  },
  {
   "cell_type": "code",
   "execution_count": 16,
   "metadata": {},
   "outputs": [],
   "source": [
    "Hitters = pd.read_csv(\"data/Hitters.csv\")\n",
    "from core.helpers import transform_df_for_model\n",
    "terms = Hitters.columns.drop('Salary')\n",
    "Y = Hitters['Salary']\n",
    "X = Hitters[terms].copy()\n",
    "designX = transform_df_for_model(X,terms)"
   ]
  },
  {
   "cell_type": "code",
   "execution_count": 17,
   "metadata": {},
   "outputs": [],
   "source": [
    "from core.helpers import transform_df_for_model\n",
    "terms = Hitters.columns.drop('Salary')\n",
    "Y = Hitters['Salary']\n",
    "X = Hitters[terms].copy()\n"
   ]
  },
  {
   "cell_type": "code",
   "execution_count": 18,
   "metadata": {},
   "outputs": [],
   "source": [
    "designX = transform_df_for_model(X,terms)"
   ]
  },
  {
   "cell_type": "code",
   "execution_count": 5,
   "metadata": {},
   "outputs": [
    {
     "data": {
      "text/plain": [
       "99591.35617968219"
      ]
     },
     "execution_count": 5,
     "metadata": {},
     "output_type": "execute_result"
    }
   ],
   "source": [
    "model = sm.OLS(Y,designX)\n",
    "model_result = model.fit()\n",
    "sigma2 = model_result.scale.item()\n",
    "sigma2\n"
   ]
  },
  {
   "cell_type": "code",
   "execution_count": null,
   "metadata": {},
   "outputs": [],
   "source": []
  },
  {
   "cell_type": "code",
   "execution_count": 7,
   "metadata": {},
   "outputs": [],
   "source": [
    "def nCp(sigma2 , X, Y, cv = 5):\n",
    "    \"Negative Cp statistic\"\n",
    "    kf = KFold(n_splits=cv, shuffle=True, random_state=42)\n",
    "    scores = []\n",
    "    for train_index, test_index in kf.split(X):\n",
    "        X_train, X_test = X.iloc[train_index], X.iloc[test_index]\n",
    "        y_train, y_test = Y.iloc[train_index], Y.iloc[test_index]\n",
    "        # train model\n",
    "        model_cv = sm.OLS(y_train, X_train).fit()\n",
    "        n, p = X.shape\n",
    "        y_pred = model_cv.predict(X_test)\n",
    "        RSS = np.sum((y_test - y_pred)**2)\n",
    "        scores.append(-(RSS + 2 * p * sigma2) / n )\n",
    "    return np.mean(scores)"
   ]
  },
  {
   "cell_type": "code",
   "execution_count": 6,
   "metadata": {},
   "outputs": [
    {
     "data": {
      "text/plain": [
       "np.float64(0.313797040766172)"
      ]
     },
     "execution_count": 6,
     "metadata": {},
     "output_type": "execute_result"
    }
   ],
   "source": [
    "# 2️⃣ Définir un custom scoring (ici R² ajusté basé sur K-Fold CV)\n",
    "def r2_cv(X, y, cv=5):\n",
    "    kf = KFold(n_splits=cv, shuffle=True, random_state=42)\n",
    "    scores = []\n",
    "    \n",
    "    for train_index, test_index in kf.split(X):\n",
    "        X_train, X_test = X.iloc[train_index], X.iloc[test_index]\n",
    "        y_train, y_test = y.iloc[train_index], y.iloc[test_index]\n",
    "        \n",
    "        model_cv = sm.OLS(y_train, X_train).fit()\n",
    "        # Predict on the test set\n",
    "        y_pred = model_cv.predict(X_test)\n",
    "        \n",
    "        # Compute R² on test data\n",
    "        r2 = 1 - np.sum((y_test - y_pred) ** 2) / np.sum((y_test - np.mean(y_test)) ** 2)\n",
    "        \n",
    "        scores.append(r2)\n",
    "    \n",
    "    return np.mean(scores)\n",
    "\n",
    "r2_cv(designX,Y)"
   ]
  },
  {
   "cell_type": "code",
   "execution_count": 7,
   "metadata": {},
   "outputs": [
    {
     "data": {
      "text/plain": [
       "np.float64(0.313797040766172)"
      ]
     },
     "execution_count": 7,
     "metadata": {},
     "output_type": "execute_result"
    }
   ],
   "source": [
    "from core.helpers import sklearn_sm\n",
    "from sklearn.model_selection import \\\n",
    "     (cross_validate,\n",
    "      KFold)\n",
    "\n",
    "cv = KFold(n_splits=5,\n",
    "           shuffle=True,\n",
    "           random_state=42) # use same splits for each degree\n",
    "M = sklearn_sm(sm.OLS)\n",
    "M_CV = cross_validate(M,\n",
    "                          designX,\n",
    "                          Y,scoring='r2',\n",
    "                          cv=cv)\n",
    "np.mean(M_CV['test_score'])"
   ]
  },
  {
   "cell_type": "code",
   "execution_count": null,
   "metadata": {},
   "outputs": [],
   "source": [
    "# 2️⃣ Définir un custom scoring (ici R² ajusté basé sur K-Fold CV)\n",
    "def r2_cv(X, y, cv=5):\n",
    "    kf = KFold(n_splits=cv, shuffle=True, random_state=42)\n",
    "    scores = []\n",
    "    \n",
    "    for train_index, test_index in kf.split(X):\n",
    "        X_train, X_test = X.iloc[train_index], X.iloc[test_index]\n",
    "        y_train, y_test = y.iloc[train_index], y.iloc[test_index]\n",
    "        \n",
    "        model_cv = sm.OLS(y_train, X_train).fit()\n",
    "        # Predict on the test set\n",
    "        y_pred = model_cv.predict(X_test)\n",
    "        \n",
    "        # Compute R² on test data\n",
    "        r2 = 1 - np.sum((y_test - y_pred) ** 2) / np.sum((y_test - np.mean(y_test)) ** 2)\n",
    "        \n",
    "        scores.append(r2)\n",
    "    \n",
    "    return np.mean(scores)\n",
    "\n",
    "r2_cv(designX,Y)"
   ]
  },
  {
   "cell_type": "code",
   "execution_count": 10,
   "metadata": {},
   "outputs": [],
   "source": [
    "def nCp(sigma2 , X, Y, cv = 5):\n",
    "    \"Negative Cp statistic\"\n",
    "    kf = KFold(n_splits=cv, shuffle=True, random_state=42)\n",
    "    scores = []\n",
    "    for train_index, test_index in kf.split(X):\n",
    "        X_train, X_test = X.iloc[train_index], X.iloc[test_index]\n",
    "        y_train, y_test = Y.iloc[train_index], Y.iloc[test_index]\n",
    "        # train model\n",
    "        model_cv = sm.OLS(y_train, X_train).fit()\n",
    "        n, p = X.shape\n",
    "        y_pred = model_cv.predict(X_test)\n",
    "        RSS = np.sum((y_test - y_pred)**2)\n",
    "        scores.append(-(RSS + 2 * p * sigma2) / n )\n",
    "    return np.mean(scores)"
   ]
  },
  {
   "cell_type": "code",
   "execution_count": 11,
   "metadata": {},
   "outputs": [],
   "source": [
    "from functools import partial\n",
    "new_nCp = partial(nCp, sigma2 )"
   ]
  },
  {
   "cell_type": "code",
   "execution_count": null,
   "metadata": {},
   "outputs": [],
   "source": [
    "from core.helpers import sklearn_sm\n",
    "from sklearn.model_selection import \\\n",
    "     (cross_validate,\n",
    "      KFold)\n",
    "\n",
    "cv = KFold(n_splits=5,\n",
    "           shuffle=True,\n",
    "           random_state=42) # use same splits for each degree\n",
    "M = sklearn_sm(sm.OLS)\n",
    "M_CV = cross_validate(M,\n",
    "                          designX,\n",
    "                          Y,scoring='r2',\n",
    "                          cv=cv)\n",
    "np.mean(M_CV['test_score'])"
   ]
  },
  {
   "cell_type": "code",
   "execution_count": 82,
   "metadata": {},
   "outputs": [
    {
     "data": {
      "text/plain": [
       "np.float64(-39258.465294604364)"
      ]
     },
     "execution_count": 82,
     "metadata": {},
     "output_type": "execute_result"
    }
   ],
   "source": [
    "new_nCp(designX,Y,cv=5)"
   ]
  },
  {
   "cell_type": "code",
   "execution_count": 69,
   "metadata": {},
   "outputs": [
    {
     "data": {
      "text/plain": [
       "np.float64(120488.11603985951)"
      ]
     },
     "execution_count": 69,
     "metadata": {},
     "output_type": "execute_result"
    }
   ],
   "source": [
    "from core.helpers import sklearn_sm\n",
    "from sklearn.model_selection import \\\n",
    "     (cross_validate,\n",
    "      KFold,\n",
    "      ShuffleSplit)\n",
    "cv_error = np.zeros(5)\n",
    "cv = KFold(n_splits=5,\n",
    "           shuffle=True,\n",
    "           random_state=42) # use same splits for each degree\n",
    "M = sklearn_sm(sm.OLS)\n",
    "M_CV = cross_validate(M,\n",
    "                          designX,\n",
    "                          Y,\n",
    "                          cv=cv)\n",
    "np.mean(M_CV['test_score'])"
   ]
  },
  {
   "cell_type": "code",
   "execution_count": 70,
   "metadata": {},
   "outputs": [],
   "source": [
    "import numpy as np\n",
    "from sklearn.model_selection import KFold\n",
    "\n",
    "def nCp_scorer(estimator, X, y, sigma2=sigma2, cv=5):\n",
    "    \"\"\"\n",
    "    Fonction compatible avec `cross_validate` pour calculer le Cp-statistic négatif.\n",
    "    \n",
    "    Paramètres:\n",
    "        estimator : Modèle de régression (doit avoir .fit et .predict)\n",
    "        X : Variables explicatives\n",
    "        y : Variable cible\n",
    "        sigma2 : Variance des résidus (si None, elle est estimée)\n",
    "        cv : Nombre de folds (optionnel, non utilisé dans cross_validate)\n",
    "\n",
    "    Retourne:\n",
    "        Score négatif de Cp (car sklearn maximise les scores)\n",
    "    \"\"\"\n",
    "    kf = KFold(n_splits=cv, shuffle=True, random_state=42)\n",
    "    RSS_list = []\n",
    "    \n",
    "    for train_index, test_index in kf.split(X):\n",
    "        X_train, X_test = X.iloc[train_index], X.iloc[test_index]\n",
    "        y_train, y_test = y.iloc[train_index], y.iloc[test_index]\n",
    "        \n",
    "        # Entraîner le modèle\n",
    "        estimator.fit(X_train, y_train)\n",
    "        \n",
    "        # Prédictions sur le test set\n",
    "        y_pred = estimator.predict(X_test)\n",
    "        \n",
    "        # Calcul du Residual Sum of Squares (RSS)\n",
    "        RSS_list.append(np.sum((y_test - y_pred) ** 2))\n",
    "    \n",
    "    # Moyenne des RSS sur les folds\n",
    "    RSS_cv = np.mean(RSS_list)\n",
    "    \n",
    "    # Estimation de sigma2 si non fourni\n",
    "    if sigma2 is None:\n",
    "        sigma2 = RSS_cv / len(y)\n",
    "\n",
    "    # Nombre d'observations et de variables\n",
    "    n, p = X.shape\n",
    "    \n",
    "    # Calcul de Cp statistic (négatif pour maximisation dans sklearn)\n",
    "    Cp = -(RSS_cv + 2 * p * sigma2) / n\n",
    "    \n",
    "    return Cp"
   ]
  },
  {
   "cell_type": "code",
   "execution_count": 71,
   "metadata": {},
   "outputs": [
    {
     "data": {
      "text/plain": [
       "np.float64(-125512.88159716557)"
      ]
     },
     "execution_count": 71,
     "metadata": {},
     "output_type": "execute_result"
    }
   ],
   "source": [
    "from core.helpers import sklearn_sm\n",
    "from sklearn.model_selection import \\\n",
    "     (cross_validate,\n",
    "      KFold,\n",
    "      ShuffleSplit)\n",
    "cv_error = np.zeros(5)\n",
    "cv = KFold(n_splits=5,\n",
    "           shuffle=True,\n",
    "           random_state=42) # use same splits for each degree\n",
    "M = sklearn_sm(sm.OLS)\n",
    "M_CV = cross_validate(M,\n",
    "                          designX,\n",
    "                          Y,scoring=nCp_scorer,\n",
    "                          cv=cv)\n",
    "np.mean(M_CV['test_score'])"
   ]
  },
  {
   "cell_type": "code",
   "execution_count": null,
   "metadata": {},
   "outputs": [],
   "source": [
    "cv_error = np.zeros(5)\n",
    "cv = KFold(n_splits=5,\n",
    "           shuffle=True,\n",
    "           random_state=42) # use same splits for each degree\n",
    "M = sklearn_sm(sm.OLS)\n",
    "for i, d in enumerate(range(1,6)):\n",
    "    X = np.power.outer(H, np.arange(d+1))\n",
    "    M_CV = cross_validate(M,\n",
    "                          X,\n",
    "                          Y,\n",
    "                          cv=cv)\n",
    "    cv_error[i] = np.mean(M_CV['test_score'])\n",
    "cv_error"
   ]
  },
  {
   "cell_type": "code",
   "execution_count": null,
   "metadata": {},
   "outputs": [],
   "source": []
  },
  {
   "cell_type": "code",
   "execution_count": null,
   "metadata": {},
   "outputs": [],
   "source": []
  },
  {
   "cell_type": "code",
   "execution_count": null,
   "metadata": {},
   "outputs": [],
   "source": []
  },
  {
   "cell_type": "code",
   "execution_count": null,
   "metadata": {},
   "outputs": [],
   "source": []
  },
  {
   "cell_type": "code",
   "execution_count": null,
   "metadata": {},
   "outputs": [],
   "source": [
    "kf = KFold(n_splits=5, shuffle=True, random_state=42)\n",
    "for train_index, test_index in kf.split(designX):\n",
    "    X_train, X_test = X.iloc[train_index], X.iloc[test_index]\n",
    "    y_train, y_test = Y.iloc[train_index], Y.iloc[test_index]\n",
    "\n",
    "y_train"
   ]
  },
  {
   "cell_type": "code",
   "execution_count": 49,
   "metadata": {},
   "outputs": [],
   "source": [
    "from functools import partial\n",
    "new_nCp = partial(nCp, sigma2 =sigma2)"
   ]
  },
  {
   "cell_type": "code",
   "execution_count": 46,
   "metadata": {},
   "outputs": [],
   "source": [
    "neg_Cp = partial(nCp, sigma2)"
   ]
  },
  {
   "cell_type": "code",
   "execution_count": 50,
   "metadata": {},
   "outputs": [
    {
     "ename": "ValueError",
     "evalue": "shapes (263,20) and (263,20) not aligned: 20 (dim 1) != 263 (dim 0)",
     "output_type": "error",
     "traceback": [
      "\u001b[0;31m---------------------------------------------------------------------------\u001b[0m",
      "\u001b[0;31mValueError\u001b[0m                                Traceback (most recent call last)",
      "Cell \u001b[0;32mIn[50], line 1\u001b[0m\n\u001b[0;32m----> 1\u001b[0m \u001b[43mneg_Cp\u001b[49m\u001b[43m(\u001b[49m\u001b[43mmodel\u001b[49m\u001b[43m,\u001b[49m\u001b[43mdesignX\u001b[49m\u001b[43m,\u001b[49m\u001b[43mY\u001b[49m\u001b[43m,\u001b[49m\u001b[43mcv\u001b[49m\u001b[38;5;241;43m=\u001b[39;49m\u001b[38;5;241;43m5\u001b[39;49m\u001b[43m)\u001b[49m\n",
      "Cell \u001b[0;32mIn[33], line 10\u001b[0m, in \u001b[0;36mnCp\u001b[0;34m(sigma2, model_result, X, Y, cv)\u001b[0m\n\u001b[1;32m      7\u001b[0m y_train, y_test \u001b[38;5;241m=\u001b[39m Y\u001b[38;5;241m.\u001b[39miloc[train_index], Y\u001b[38;5;241m.\u001b[39miloc[test_index]\n\u001b[1;32m      9\u001b[0m n, p \u001b[38;5;241m=\u001b[39m X\u001b[38;5;241m.\u001b[39mshape\n\u001b[0;32m---> 10\u001b[0m Yhat \u001b[38;5;241m=\u001b[39m \u001b[43mmodel_result\u001b[49m\u001b[38;5;241;43m.\u001b[39;49m\u001b[43mpredict\u001b[49m\u001b[43m(\u001b[49m\u001b[43mX\u001b[49m\u001b[43m)\u001b[49m\n\u001b[1;32m     11\u001b[0m RSS \u001b[38;5;241m=\u001b[39m np\u001b[38;5;241m.\u001b[39msum((Y \u001b[38;5;241m-\u001b[39m Yhat)\u001b[38;5;241m*\u001b[39m\u001b[38;5;241m*\u001b[39m\u001b[38;5;241m2\u001b[39m)\n\u001b[1;32m     12\u001b[0m scores\u001b[38;5;241m.\u001b[39mappend(\u001b[38;5;241m-\u001b[39m(RSS \u001b[38;5;241m+\u001b[39m \u001b[38;5;241m2\u001b[39m \u001b[38;5;241m*\u001b[39m p \u001b[38;5;241m*\u001b[39m sigma2) \u001b[38;5;241m/\u001b[39m n )\n",
      "File \u001b[0;32m~/Documents/2025/ML/venv/lib/python3.9/site-packages/statsmodels/regression/linear_model.py:409\u001b[0m, in \u001b[0;36mRegressionModel.predict\u001b[0;34m(self, params, exog)\u001b[0m\n\u001b[1;32m    406\u001b[0m \u001b[38;5;28;01mif\u001b[39;00m exog \u001b[38;5;129;01mis\u001b[39;00m \u001b[38;5;28;01mNone\u001b[39;00m:\n\u001b[1;32m    407\u001b[0m     exog \u001b[38;5;241m=\u001b[39m \u001b[38;5;28mself\u001b[39m\u001b[38;5;241m.\u001b[39mexog\n\u001b[0;32m--> 409\u001b[0m \u001b[38;5;28;01mreturn\u001b[39;00m \u001b[43mnp\u001b[49m\u001b[38;5;241;43m.\u001b[39;49m\u001b[43mdot\u001b[49m\u001b[43m(\u001b[49m\u001b[43mexog\u001b[49m\u001b[43m,\u001b[49m\u001b[43m \u001b[49m\u001b[43mparams\u001b[49m\u001b[43m)\u001b[49m\n",
      "\u001b[0;31mValueError\u001b[0m: shapes (263,20) and (263,20) not aligned: 20 (dim 1) != 263 (dim 0)"
     ]
    }
   ],
   "source": [
    "neg_Cp(model,designX,Y,cv=5)"
   ]
  },
  {
   "cell_type": "code",
   "execution_count": null,
   "metadata": {},
   "outputs": [],
   "source": []
  },
  {
   "cell_type": "code",
   "execution_count": 6,
   "metadata": {},
   "outputs": [],
   "source": [
    "# 3️⃣ Implémentation de la sélection forward avec K-Fold CV\n",
    "def forward_selection(df, target, scoring, cv=5):\n",
    "    available_features = list(df.columns)\n",
    "    \n",
    "    selected_features = []\n",
    "    best_score = -np.inf\n",
    "    best_model = None\n",
    "\n",
    "    while available_features:\n",
    "        scores = []\n",
    "        models = []\n",
    "        \n",
    "        for feature in available_features:\n",
    "            X = transform_df_for_model(df,selected_features + [feature])\n",
    "            y = target\n",
    "            score = scoring(X, y, cv=cv)\n",
    "            scores.append((feature, score, model))\n",
    "        \n",
    "        # Sélectionner la meilleure variable à ajouter\n",
    "        scores.sort(key=lambda x: x[1], reverse=True)\n",
    "        best_new_feature, best_new_score, best_new_model = scores[0]\n",
    "        \n",
    "        if best_new_score > best_score:  # Vérifier l'amélioration\n",
    "            selected_features.append(best_new_feature)\n",
    "            available_features.remove(best_new_feature)\n",
    "            best_score = best_new_score\n",
    "            best_model = best_new_model\n",
    "        else:\n",
    "            break  # Arrêter si plus d'amélioration\n",
    "\n",
    "    return best_model, selected_features"
   ]
  },
  {
   "cell_type": "code",
   "execution_count": 8,
   "metadata": {},
   "outputs": [
    {
     "name": "stdout",
     "output_type": "stream",
     "text": [
      "Meilleures variables sélectionnées : ['CRBI', 'Hits', 'PutOuts', 'Division', 'AtBat', 'Walks', 'CWalks', 'CRuns', 'CAtBat', 'Assists', 'League']\n",
      "                            OLS Regression Results                            \n",
      "==============================================================================\n",
      "Dep. Variable:                 Salary   R-squared:                       0.543\n",
      "Model:                            OLS   Adj. R-squared:                  0.523\n",
      "Method:                 Least Squares   F-statistic:                     27.07\n",
      "Date:                Wed, 19 Mar 2025   Prob (F-statistic):           8.93e-37\n",
      "Time:                        14:37:41   Log-Likelihood:                -1877.2\n",
      "No. Observations:                 263   AIC:                             3778.\n",
      "Df Residuals:                     251   BIC:                             3821.\n",
      "Df Model:                          11                                         \n",
      "Covariance Type:            nonrobust                                         \n",
      "===============================================================================\n",
      "                  coef    std err          t      P>|t|      [0.025      0.975]\n",
      "-------------------------------------------------------------------------------\n",
      "intercept     135.7512     71.346      1.903      0.058      -4.762     276.265\n",
      "CRBI            0.7853      0.210      3.743      0.000       0.372       1.198\n",
      "Hits            6.9237      1.646      4.206      0.000       3.682      10.166\n",
      "PutOuts         0.2894      0.075      3.870      0.000       0.142       0.437\n",
      "Division[W]  -111.1460     39.218     -2.834      0.005    -188.385     -33.907\n",
      "AtBat          -2.1277      0.537     -3.959      0.000      -3.186      -1.069\n",
      "Walks           5.6203      1.591      3.533      0.000       2.488       8.753\n",
      "CWalks         -0.8229      0.264     -3.121      0.002      -1.342      -0.304\n",
      "CRuns           1.4553      0.393      3.706      0.000       0.682       2.229\n",
      "CAtBat         -0.1390      0.056     -2.478      0.014      -0.249      -0.029\n",
      "Assists         0.2688      0.158      1.700      0.090      -0.043       0.580\n",
      "League[N]      43.1116     39.966      1.079      0.282     -35.600     121.823\n",
      "==============================================================================\n",
      "Omnibus:                       88.563   Durbin-Watson:                   2.011\n",
      "Prob(Omnibus):                  0.000   Jarque-Bera (JB):              470.516\n",
      "Skew:                           1.246   Prob(JB):                    6.74e-103\n",
      "Kurtosis:                       9.060   Cond. No.                     1.39e+04\n",
      "==============================================================================\n",
      "\n",
      "Notes:\n",
      "[1] Standard Errors assume that the covariance matrix of the errors is correctly specified.\n",
      "[2] The condition number is large, 1.39e+04. This might indicate that there are\n",
      "strong multicollinearity or other numerical problems.\n"
     ]
    }
   ],
   "source": [
    "\n",
    "# 4️⃣ Lancer la sélection\n",
    "best_model, selected_features = forward_selection(X, Y, scoring=adjusted_r2_cv, cv=5)\n",
    "print(\"Meilleures variables sélectionnées :\", selected_features)\n",
    "print(best_model.summary())"
   ]
  },
  {
   "cell_type": "code",
   "execution_count": 9,
   "metadata": {},
   "outputs": [],
   "source": [
    "import numpy as np\n",
    "import pandas as pd\n",
    "from sklearn.linear_model import LinearRegression\n",
    "from sklearn.model_selection import cross_validate, KFold\n",
    "from sklearn.metrics import make_scorer, r2_score\n",
    "import statsmodels.api as sm\n",
    "\n",
    "# Custom R² scoring function for cross-validation\n",
    "def r2_scorer(estimator, X, y):\n",
    "    \"\"\"\n",
    "    Custom scoring function for cross_validate that computes R² on the test set.\n",
    "    \n",
    "    Parameters:\n",
    "        estimator : The trained model (must have .fit and .predict)\n",
    "        X (DataFrame) : Feature matrix\n",
    "        y (Series) : Target variable\n",
    "    \n",
    "    Returns:\n",
    "        float : R² score\n",
    "    \"\"\"\n",
    "    # Add a constant term (intercept) if using Statsmodels\n",
    "    if isinstance(estimator, sm.OLS):\n",
    "        X = sm.add_constant(X)\n",
    "\n",
    "    # Train the model\n",
    "    estimator.fit(X, y)\n",
    "\n",
    "    # Predict on the same set (cross_validate will use test set automatically)\n",
    "    y_pred = estimator.predict(X)\n",
    "\n",
    "    # Compute R² on test set\n",
    "    return r2_score(y, y_pred)\n",
    "\n",
    "# Convert function into a scorer\n",
    "custom_r2_scorer = make_scorer(r2_scorer, greater_is_better=True)"
   ]
  },
  {
   "cell_type": "code",
   "execution_count": 10,
   "metadata": {},
   "outputs": [],
   "source": [
    "# Generate synthetic regression data\n",
    "X, y = make_regression(n_samples=100, n_features=5, noise=10, random_state=42)\n",
    "X = pd.DataFrame(X, columns=[f\"Var{i}\" for i in range(5)])\n",
    "y = pd.Series(y)"
   ]
  },
  {
   "cell_type": "code",
   "execution_count": 13,
   "metadata": {},
   "outputs": [
    {
     "name": "stdout",
     "output_type": "stream",
     "text": [
      "Custom R² scores on test sets: [nan nan nan nan nan]\n",
      "Mean R² across folds: nan\n"
     ]
    },
    {
     "name": "stderr",
     "output_type": "stream",
     "text": [
      "/Users/passion/Documents/2025/ML/venv/lib/python3.9/site-packages/sklearn/model_selection/_validation.py:960: UserWarning: Scoring failed. The score on this train-test partition for these parameters will be set to nan. Details: \n",
      "Traceback (most recent call last):\n",
      "  File \"/Users/passion/Documents/2025/ML/venv/lib/python3.9/site-packages/sklearn/model_selection/_validation.py\", line 949, in _score\n",
      "    scores = scorer(estimator, X_test, y_test, **score_params)\n",
      "  File \"/Users/passion/Documents/2025/ML/venv/lib/python3.9/site-packages/sklearn/metrics/_scorer.py\", line 288, in __call__\n",
      "    return self._score(partial(_cached_call, None), estimator, X, y_true, **_kwargs)\n",
      "  File \"/Users/passion/Documents/2025/ML/venv/lib/python3.9/site-packages/sklearn/metrics/_scorer.py\", line 388, in _score\n",
      "    return self._sign * self._score_func(y_true, y_pred, **scoring_kwargs)\n",
      "TypeError: r2_scorer() missing 1 required positional argument: 'y'\n",
      "\n",
      "  warnings.warn(\n"
     ]
    }
   ],
   "source": [
    "\n",
    "\n",
    "\n",
    "\n",
    "# Define model (Linear Regression)\n",
    "model = sklearn_sm(sm.OLS)\n",
    "\n",
    "# Perform cross-validation with the custom R² scorer\n",
    "cv_results = cross_validate(model, designX, Y, scoring=custom_r2_scorer, cv=5, return_train_score=True)\n",
    "\n",
    "# Display results\n",
    "print(\"Custom R² scores on test sets:\", cv_results[\"test_score\"])\n",
    "print(\"Mean R² across folds:\", np.mean(cv_results[\"test_score\"]))"
   ]
  },
  {
   "cell_type": "code",
   "execution_count": 27,
   "metadata": {},
   "outputs": [
    {
     "data": {
      "text/plain": [
       "array([0.34112994, 0.64682351, 0.43169047, 0.82737198, 0.88378697,\n",
       "       0.35515211, 0.73216518, 0.30412311, 0.76791636, 0.16453645,\n",
       "       0.39200141, 0.95304113, 0.86852918, 0.85652826, 0.6260148 ,\n",
       "       0.2274643 , 0.33066311, 0.83738994, 0.44022479, 0.2116009 ,\n",
       "       0.99788981, 0.93606177, 0.82250484, 0.7735262 , 0.69204918,\n",
       "       0.72742574, 0.55586749, 0.29979135, 0.66350105, 0.76958443,\n",
       "       0.75311119, 0.59698818, 0.26730429, 0.32890829, 0.06808448,\n",
       "       0.56752747, 0.02149576, 0.65424999, 0.94210265, 0.90627553,\n",
       "       0.01356619, 0.83436575, 0.13800968, 0.68432994, 0.79159903,\n",
       "       0.64546835, 0.19206323, 0.12886985, 0.13344615, 0.85609896,\n",
       "       0.31108035, 0.80535887, 0.97386201, 0.69923782, 0.79003244,\n",
       "       0.19521081, 0.85865958, 0.96688519, 0.63877666, 0.31548163,\n",
       "       0.81511011, 0.98863237, 0.22193891, 0.34632878, 0.72982026,\n",
       "       0.20185936, 0.58740934, 0.22144936, 0.06658957, 0.53279664,\n",
       "       0.10590963, 0.46889029, 0.34554016, 0.88715356, 0.42046967,\n",
       "       0.92813559, 0.85595744, 0.56474062, 0.93807781, 0.34380864,\n",
       "       0.93991486, 0.58998706, 0.83989642, 0.00961708, 0.39688134,\n",
       "       0.65112612, 0.95210756, 0.82770941, 0.8455704 , 0.79125729,\n",
       "       0.39805095, 0.24814872, 0.41058148, 0.26342135, 0.5776213 ,\n",
       "       0.90104936, 0.38845293, 0.78545498, 0.05686685, 0.289606  ])"
      ]
     },
     "execution_count": 27,
     "metadata": {},
     "output_type": "execute_result"
    }
   ],
   "source": [
    "# Exemple de données factices\n",
    "designX = np.random.rand(100, 3)  # 100 échantillons, 3 features\n",
    "Y = np.random.rand(100)  # 100 cibles\n",
    "designX\n",
    "Y"
   ]
  },
  {
   "cell_type": "code",
   "execution_count": 1,
   "metadata": {},
   "outputs": [],
   "source": [
    "import numpy as np\n",
    "import pandas as pd\n",
    "from sklearn.linear_model import LinearRegression\n",
    "from sklearn.model_selection import cross_validate, KFold\n",
    "from sklearn.metrics import make_scorer"
   ]
  },
  {
   "cell_type": "code",
   "execution_count": 2,
   "metadata": {},
   "outputs": [],
   "source": [
    "Hitters = pd.read_csv(\"data/Hitters.csv\")\n",
    "from core.helpers import transform_df_for_model\n",
    "terms = Hitters.columns.drop(['Salary', 'League','Division','NewLeague'])\n",
    "Y = Hitters['Salary']\n",
    "X = Hitters.drop(columns=['Salary', 'League','Division','NewLeague'])\n",
    "X['intercept'] = np.ones(Hitters.shape[0])"
   ]
  },
  {
   "cell_type": "code",
   "execution_count": 3,
   "metadata": {},
   "outputs": [
    {
     "data": {
      "text/html": [
       "<div>\n",
       "<style scoped>\n",
       "    .dataframe tbody tr th:only-of-type {\n",
       "        vertical-align: middle;\n",
       "    }\n",
       "\n",
       "    .dataframe tbody tr th {\n",
       "        vertical-align: top;\n",
       "    }\n",
       "\n",
       "    .dataframe thead th {\n",
       "        text-align: right;\n",
       "    }\n",
       "</style>\n",
       "<table border=\"1\" class=\"dataframe\">\n",
       "  <thead>\n",
       "    <tr style=\"text-align: right;\">\n",
       "      <th></th>\n",
       "      <th>AtBat</th>\n",
       "      <th>Hits</th>\n",
       "      <th>HmRun</th>\n",
       "      <th>Runs</th>\n",
       "      <th>RBI</th>\n",
       "      <th>Walks</th>\n",
       "      <th>Years</th>\n",
       "      <th>CAtBat</th>\n",
       "      <th>CHits</th>\n",
       "      <th>CHmRun</th>\n",
       "      <th>CRuns</th>\n",
       "      <th>CRBI</th>\n",
       "      <th>CWalks</th>\n",
       "      <th>PutOuts</th>\n",
       "      <th>Assists</th>\n",
       "      <th>Errors</th>\n",
       "      <th>intercept</th>\n",
       "    </tr>\n",
       "  </thead>\n",
       "  <tbody>\n",
       "    <tr>\n",
       "      <th>0</th>\n",
       "      <td>315</td>\n",
       "      <td>81</td>\n",
       "      <td>7</td>\n",
       "      <td>24</td>\n",
       "      <td>38</td>\n",
       "      <td>39</td>\n",
       "      <td>14</td>\n",
       "      <td>3449</td>\n",
       "      <td>835</td>\n",
       "      <td>69</td>\n",
       "      <td>321</td>\n",
       "      <td>414</td>\n",
       "      <td>375</td>\n",
       "      <td>632</td>\n",
       "      <td>43</td>\n",
       "      <td>10</td>\n",
       "      <td>1.0</td>\n",
       "    </tr>\n",
       "    <tr>\n",
       "      <th>1</th>\n",
       "      <td>479</td>\n",
       "      <td>130</td>\n",
       "      <td>18</td>\n",
       "      <td>66</td>\n",
       "      <td>72</td>\n",
       "      <td>76</td>\n",
       "      <td>3</td>\n",
       "      <td>1624</td>\n",
       "      <td>457</td>\n",
       "      <td>63</td>\n",
       "      <td>224</td>\n",
       "      <td>266</td>\n",
       "      <td>263</td>\n",
       "      <td>880</td>\n",
       "      <td>82</td>\n",
       "      <td>14</td>\n",
       "      <td>1.0</td>\n",
       "    </tr>\n",
       "    <tr>\n",
       "      <th>2</th>\n",
       "      <td>496</td>\n",
       "      <td>141</td>\n",
       "      <td>20</td>\n",
       "      <td>65</td>\n",
       "      <td>78</td>\n",
       "      <td>37</td>\n",
       "      <td>11</td>\n",
       "      <td>5628</td>\n",
       "      <td>1575</td>\n",
       "      <td>225</td>\n",
       "      <td>828</td>\n",
       "      <td>838</td>\n",
       "      <td>354</td>\n",
       "      <td>200</td>\n",
       "      <td>11</td>\n",
       "      <td>3</td>\n",
       "      <td>1.0</td>\n",
       "    </tr>\n",
       "    <tr>\n",
       "      <th>3</th>\n",
       "      <td>321</td>\n",
       "      <td>87</td>\n",
       "      <td>10</td>\n",
       "      <td>39</td>\n",
       "      <td>42</td>\n",
       "      <td>30</td>\n",
       "      <td>2</td>\n",
       "      <td>396</td>\n",
       "      <td>101</td>\n",
       "      <td>12</td>\n",
       "      <td>48</td>\n",
       "      <td>46</td>\n",
       "      <td>33</td>\n",
       "      <td>805</td>\n",
       "      <td>40</td>\n",
       "      <td>4</td>\n",
       "      <td>1.0</td>\n",
       "    </tr>\n",
       "    <tr>\n",
       "      <th>4</th>\n",
       "      <td>594</td>\n",
       "      <td>169</td>\n",
       "      <td>4</td>\n",
       "      <td>74</td>\n",
       "      <td>51</td>\n",
       "      <td>35</td>\n",
       "      <td>11</td>\n",
       "      <td>4408</td>\n",
       "      <td>1133</td>\n",
       "      <td>19</td>\n",
       "      <td>501</td>\n",
       "      <td>336</td>\n",
       "      <td>194</td>\n",
       "      <td>282</td>\n",
       "      <td>421</td>\n",
       "      <td>25</td>\n",
       "      <td>1.0</td>\n",
       "    </tr>\n",
       "    <tr>\n",
       "      <th>...</th>\n",
       "      <td>...</td>\n",
       "      <td>...</td>\n",
       "      <td>...</td>\n",
       "      <td>...</td>\n",
       "      <td>...</td>\n",
       "      <td>...</td>\n",
       "      <td>...</td>\n",
       "      <td>...</td>\n",
       "      <td>...</td>\n",
       "      <td>...</td>\n",
       "      <td>...</td>\n",
       "      <td>...</td>\n",
       "      <td>...</td>\n",
       "      <td>...</td>\n",
       "      <td>...</td>\n",
       "      <td>...</td>\n",
       "      <td>...</td>\n",
       "    </tr>\n",
       "    <tr>\n",
       "      <th>258</th>\n",
       "      <td>497</td>\n",
       "      <td>127</td>\n",
       "      <td>7</td>\n",
       "      <td>65</td>\n",
       "      <td>48</td>\n",
       "      <td>37</td>\n",
       "      <td>5</td>\n",
       "      <td>2703</td>\n",
       "      <td>806</td>\n",
       "      <td>32</td>\n",
       "      <td>379</td>\n",
       "      <td>311</td>\n",
       "      <td>138</td>\n",
       "      <td>325</td>\n",
       "      <td>9</td>\n",
       "      <td>3</td>\n",
       "      <td>1.0</td>\n",
       "    </tr>\n",
       "    <tr>\n",
       "      <th>259</th>\n",
       "      <td>492</td>\n",
       "      <td>136</td>\n",
       "      <td>5</td>\n",
       "      <td>76</td>\n",
       "      <td>50</td>\n",
       "      <td>94</td>\n",
       "      <td>12</td>\n",
       "      <td>5511</td>\n",
       "      <td>1511</td>\n",
       "      <td>39</td>\n",
       "      <td>897</td>\n",
       "      <td>451</td>\n",
       "      <td>875</td>\n",
       "      <td>313</td>\n",
       "      <td>381</td>\n",
       "      <td>20</td>\n",
       "      <td>1.0</td>\n",
       "    </tr>\n",
       "    <tr>\n",
       "      <th>260</th>\n",
       "      <td>475</td>\n",
       "      <td>126</td>\n",
       "      <td>3</td>\n",
       "      <td>61</td>\n",
       "      <td>43</td>\n",
       "      <td>52</td>\n",
       "      <td>6</td>\n",
       "      <td>1700</td>\n",
       "      <td>433</td>\n",
       "      <td>7</td>\n",
       "      <td>217</td>\n",
       "      <td>93</td>\n",
       "      <td>146</td>\n",
       "      <td>37</td>\n",
       "      <td>113</td>\n",
       "      <td>7</td>\n",
       "      <td>1.0</td>\n",
       "    </tr>\n",
       "    <tr>\n",
       "      <th>261</th>\n",
       "      <td>573</td>\n",
       "      <td>144</td>\n",
       "      <td>9</td>\n",
       "      <td>85</td>\n",
       "      <td>60</td>\n",
       "      <td>78</td>\n",
       "      <td>8</td>\n",
       "      <td>3198</td>\n",
       "      <td>857</td>\n",
       "      <td>97</td>\n",
       "      <td>470</td>\n",
       "      <td>420</td>\n",
       "      <td>332</td>\n",
       "      <td>1314</td>\n",
       "      <td>131</td>\n",
       "      <td>12</td>\n",
       "      <td>1.0</td>\n",
       "    </tr>\n",
       "    <tr>\n",
       "      <th>262</th>\n",
       "      <td>631</td>\n",
       "      <td>170</td>\n",
       "      <td>9</td>\n",
       "      <td>77</td>\n",
       "      <td>44</td>\n",
       "      <td>31</td>\n",
       "      <td>11</td>\n",
       "      <td>4908</td>\n",
       "      <td>1457</td>\n",
       "      <td>30</td>\n",
       "      <td>775</td>\n",
       "      <td>357</td>\n",
       "      <td>249</td>\n",
       "      <td>408</td>\n",
       "      <td>4</td>\n",
       "      <td>3</td>\n",
       "      <td>1.0</td>\n",
       "    </tr>\n",
       "  </tbody>\n",
       "</table>\n",
       "<p>263 rows × 17 columns</p>\n",
       "</div>"
      ],
      "text/plain": [
       "     AtBat  Hits  HmRun  Runs  RBI  Walks  Years  CAtBat  CHits  CHmRun  \\\n",
       "0      315    81      7    24   38     39     14    3449    835      69   \n",
       "1      479   130     18    66   72     76      3    1624    457      63   \n",
       "2      496   141     20    65   78     37     11    5628   1575     225   \n",
       "3      321    87     10    39   42     30      2     396    101      12   \n",
       "4      594   169      4    74   51     35     11    4408   1133      19   \n",
       "..     ...   ...    ...   ...  ...    ...    ...     ...    ...     ...   \n",
       "258    497   127      7    65   48     37      5    2703    806      32   \n",
       "259    492   136      5    76   50     94     12    5511   1511      39   \n",
       "260    475   126      3    61   43     52      6    1700    433       7   \n",
       "261    573   144      9    85   60     78      8    3198    857      97   \n",
       "262    631   170      9    77   44     31     11    4908   1457      30   \n",
       "\n",
       "     CRuns  CRBI  CWalks  PutOuts  Assists  Errors  intercept  \n",
       "0      321   414     375      632       43      10        1.0  \n",
       "1      224   266     263      880       82      14        1.0  \n",
       "2      828   838     354      200       11       3        1.0  \n",
       "3       48    46      33      805       40       4        1.0  \n",
       "4      501   336     194      282      421      25        1.0  \n",
       "..     ...   ...     ...      ...      ...     ...        ...  \n",
       "258    379   311     138      325        9       3        1.0  \n",
       "259    897   451     875      313      381      20        1.0  \n",
       "260    217    93     146       37      113       7        1.0  \n",
       "261    470   420     332     1314      131      12        1.0  \n",
       "262    775   357     249      408        4       3        1.0  \n",
       "\n",
       "[263 rows x 17 columns]"
      ]
     },
     "execution_count": 3,
     "metadata": {},
     "output_type": "execute_result"
    }
   ],
   "source": [
    "X"
   ]
  },
  {
   "cell_type": "code",
   "execution_count": null,
   "metadata": {},
   "outputs": [],
   "source": []
  }
 ],
 "metadata": {
  "kernelspec": {
   "display_name": "venv",
   "language": "python",
   "name": "python3"
  },
  "language_info": {
   "codemirror_mode": {
    "name": "ipython",
    "version": 3
   },
   "file_extension": ".py",
   "mimetype": "text/x-python",
   "name": "python",
   "nbconvert_exporter": "python",
   "pygments_lexer": "ipython3",
   "version": "3.9.12"
  }
 },
 "nbformat": 4,
 "nbformat_minor": 2
}
