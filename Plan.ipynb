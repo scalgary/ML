{
  "cells": [
    {
      "cell_type": "raw",
      "id": "dbf12491",
      "metadata": {},
      "source": [
        "---\n",
        "title: Prelim\n",
        "format:\n",
        "  html:\n",
        "    code-fold: true\n",
        "---"
      ]
    },
    {
      "cell_type": "markdown",
      "id": "62bf2763",
      "metadata": {},
      "source": [
        "1 - Create a repo in Github and clone it on local drive\n",
        "2 - Set up Python environnement\n",
        "3 - Create core folder to keep my functions\n",
        "4 - Create data folder\n",
        "5 - function summarise\n",
        "6 - check for quick linear regression\n",
        " python3 -m ipykernel install --user --name venv\n",
        "\n",
        "\n",
        "# Packages"
      ]
    },
    {
      "cell_type": "code",
      "execution_count": null,
      "id": "a2a48562",
      "metadata": {
        "vscode": {
          "languageId": "python"
        }
      },
      "outputs": [],
      "source": [
        "import numpy as np\n",
        "import pandas as pd\n",
        "from matplotlib.pyplot import subplots\n",
        "import statsmodels.api as sm\n",
        "from statsmodels.stats.anova import anova_lm\n",
        "from functools import partial\n",
        "from sklearn.model_selection import train_test_split\n",
        "from sklearn.pipeline import make_pipeline"
      ]
    },
    {
      "cell_type": "markdown",
      "id": "0ccf5156",
      "metadata": {},
      "source": [
        "# Personal Packages"
      ]
    },
    {
      "cell_type": "code",
      "execution_count": null,
      "id": "15bd7f83",
      "metadata": {
        "vscode": {
          "languageId": "python"
        }
      },
      "outputs": [],
      "source": [
        "from core.helpers import summarize\n",
        "from core.helpers import transform_df_for_model\n",
        "from core.helpers import sklearn_sm"
      ]
    },
    {
      "cell_type": "markdown",
      "id": "1e4bfa12",
      "metadata": {},
      "source": [
        "# Linear regression : 1 variable\n",
        "## Simple way"
      ]
    },
    {
      "cell_type": "code",
      "execution_count": null,
      "id": "924dee87",
      "metadata": {
        "vscode": {
          "languageId": "python"
        }
      },
      "outputs": [],
      "source": [
        "Boston = pd.read_csv(\"data/Boston.csv\")\n",
        "df = pd.DataFrame({'intercept': np.ones(Boston.shape[0]),\n",
        "                  'lstat': Boston['lstat']})\n",
        "y = Boston['medv']\n",
        "model = sm.OLS(y, df)\n",
        "results = model.fit()\n",
        "summarize(results)"
      ]
    },
    {
      "cell_type": "markdown",
      "id": "25e23d3b",
      "metadata": {},
      "source": [
        "## Using my own function"
      ]
    },
    {
      "cell_type": "code",
      "execution_count": null,
      "id": "9be13874",
      "metadata": {
        "vscode": {
          "languageId": "python"
        }
      },
      "outputs": [],
      "source": [
        "X = transform_df_for_model(df,['lstat'])\n",
        "y = Boston['medv']\n",
        "model = sm.OLS(y, X)\n",
        "results = model.fit()\n",
        "summarize(results)"
      ]
    },
    {
      "cell_type": "code",
      "execution_count": null,
      "id": "a785dc9f",
      "metadata": {
        "vscode": {
          "languageId": "python"
        }
      },
      "outputs": [],
      "source": [
        "results.summary()"
      ]
    },
    {
      "cell_type": "markdown",
      "id": "cb96958a",
      "metadata": {},
      "source": [
        "### Predictions"
      ]
    },
    {
      "cell_type": "code",
      "execution_count": null,
      "id": "94d05efe",
      "metadata": {
        "vscode": {
          "languageId": "python"
        }
      },
      "outputs": [],
      "source": [
        "new_df = pd.DataFrame({'lstat':[5, 10, 15]})\n",
        "variables = ['lstat']\n",
        "newX = transform_df_for_model(new_df, variables)\n",
        "newX"
      ]
    },
    {
      "cell_type": "code",
      "execution_count": null,
      "id": "3cd2d85b",
      "metadata": {
        "vscode": {
          "languageId": "python"
        }
      },
      "outputs": [],
      "source": [
        "new_predictions = results.get_prediction(newX)\n",
        "print(new_predictions.predicted_mean)\n",
        "new_predictions.conf_int(alpha=0.05)"
      ]
    },
    {
      "cell_type": "markdown",
      "id": "b30859ae",
      "metadata": {},
      "source": [
        "Prediction interval"
      ]
    },
    {
      "cell_type": "code",
      "execution_count": null,
      "id": "64f39572",
      "metadata": {
        "vscode": {
          "languageId": "python"
        }
      },
      "outputs": [],
      "source": [
        "new_predictions.conf_int(obs=True, alpha=0.05)"
      ]
    },
    {
      "cell_type": "markdown",
      "id": "27449570",
      "metadata": {},
      "source": [
        "# Linear regression : 2 variables"
      ]
    },
    {
      "cell_type": "code",
      "execution_count": null,
      "id": "b4a61f84",
      "metadata": {
        "vscode": {
          "languageId": "python"
        }
      },
      "outputs": [],
      "source": [
        "Boston = pd.read_csv(\"data/Boston.csv\")\n",
        "X = transform_df_for_model(Boston,['lstat', 'age'])\n",
        "model1 = sm.OLS(y, X)\n",
        "results1 = model1.fit()\n",
        "summarize(results1)"
      ]
    },
    {
      "cell_type": "code",
      "execution_count": null,
      "id": "251b3542",
      "metadata": {
        "vscode": {
          "languageId": "python"
        }
      },
      "outputs": [],
      "source": [
        "terms = Boston.columns.drop(\"medv\")\n",
        "X = transform_df_for_model(Boston, terms)\n",
        "model = sm.OLS(y, X)\n",
        "results = model.fit()\n",
        "summarize(results)"
      ]
    },
    {
      "cell_type": "markdown",
      "id": "be7c3bf4",
      "metadata": {},
      "source": [
        "## with interactions"
      ]
    },
    {
      "cell_type": "code",
      "execution_count": null,
      "id": "598fd697",
      "metadata": {
        "vscode": {
          "languageId": "python"
        }
      },
      "outputs": [],
      "source": [
        "X = transform_df_for_model(Boston, ['lstat','age'],interactions = [('lstat', 'age')])\n",
        "model2 = sm.OLS(y, X)\n",
        "\n",
        "results2 = model2.fit()\n",
        "summarize(model2.fit())\n",
        "results2.summary()"
      ]
    },
    {
      "cell_type": "markdown",
      "id": "7d16ca09",
      "metadata": {},
      "source": [
        "How to use anova_lm\n",
        "anova(reduced,full)\n",
        "Ho no need the full model\n"
      ]
    },
    {
      "cell_type": "code",
      "execution_count": null,
      "id": "9de00fc2",
      "metadata": {
        "vscode": {
          "languageId": "python"
        }
      },
      "outputs": [],
      "source": [
        "anova_lm(results1,results2)"
      ]
    },
    {
      "cell_type": "code",
      "execution_count": null,
      "id": "460fdab5",
      "metadata": {
        "vscode": {
          "languageId": "python"
        }
      },
      "outputs": [],
      "source": [
        "Carseats = pd.read_csv(\"data/Carseats.csv\")\n",
        "\n",
        "allvars = list(Carseats.columns.drop('Sales'))\n",
        "y = Carseats['Sales']\n",
        "\n",
        "X = transform_df_for_model(Carseats, allvars,[('Income', 'Advertising'),\n",
        "                   ('Price', 'Age')])\n",
        "model = sm.OLS(y, X)\n",
        "summarize(model.fit())"
      ]
    },
    {
      "cell_type": "markdown",
      "id": "d5808720",
      "metadata": {},
      "source": [
        "# Split\n"
      ]
    },
    {
      "cell_type": "code",
      "execution_count": null,
      "id": "49c722d2",
      "metadata": {
        "vscode": {
          "languageId": "python"
        }
      },
      "outputs": [],
      "source": [
        "Auto = pd.read_csv('data/Auto.csv')\n",
        "Auto_train, Auto_test = train_test_split(Auto,\n",
        "                                         test_size=196,\n",
        "                                         random_state=0)"
      ]
    },
    {
      "cell_type": "markdown",
      "id": "0fc42a32",
      "metadata": {},
      "source": [
        "## use of partial"
      ]
    },
    {
      "cell_type": "code",
      "execution_count": null,
      "id": "5f49cf26",
      "metadata": {
        "vscode": {
          "languageId": "python"
        }
      },
      "outputs": [],
      "source": [
        "hp_mm = partial(transform_df_for_model, terms = ['horsepower'])\n",
        "X_train = hp_mm(Auto_train)\n",
        "y_train = Auto_train['mpg']\n",
        "model = sm.OLS(y_train, X_train)\n",
        "results = model.fit()"
      ]
    },
    {
      "cell_type": "code",
      "execution_count": null,
      "id": "94f1f3bf",
      "metadata": {
        "vscode": {
          "languageId": "python"
        }
      },
      "outputs": [],
      "source": [
        "X_test = hp_mm(Auto_test)\n",
        "y_test = Auto_test['mpg']\n",
        "test_pred = results.predict(X_test)\n",
        "np.mean((y_test - test_pred)**2).item()"
      ]
    },
    {
      "cell_type": "markdown",
      "id": "edf89016",
      "metadata": {},
      "source": [
        "## Function to compute MSE"
      ]
    },
    {
      "cell_type": "code",
      "execution_count": null,
      "id": "b95748ad",
      "metadata": {
        "vscode": {
          "languageId": "python"
        }
      },
      "outputs": [],
      "source": [
        "def evalMSE(terms,\n",
        "            response,\n",
        "            train,\n",
        "            test):\n",
        "\n",
        "   mm_transform = partial(transform_df_for_model, terms = terms)\n",
        "   X_train = mm_transform(train)\n",
        "   y_train = train[response]\n",
        "\n",
        "   X_test = mm_transform(test)\n",
        "   y_test = test[response]\n",
        "\n",
        "   results = sm.OLS(y_train, X_train).fit()\n",
        "   test_pred = results.predict(X_test)\n",
        "\n",
        "   return np.mean((y_test - test_pred)**2).item()"
      ]
    },
    {
      "cell_type": "code",
      "execution_count": null,
      "id": "c5344fd3",
      "metadata": {
        "vscode": {
          "languageId": "python"
        }
      },
      "outputs": [],
      "source": [
        "evalMSE(terms =['horsepower','cylinders'],response ='mpg',train = Auto_train, test=Auto_test)"
      ]
    },
    {
      "cell_type": "code",
      "execution_count": null,
      "id": "553f2c83",
      "metadata": {
        "vscode": {
          "languageId": "python"
        }
      },
      "outputs": [],
      "source": [
        "from sklearn.model_selection import \\\n",
        "     (cross_validate,\n",
        "      KFold,\n",
        "      ShuffleSplit)\n",
        "X, Y = Auto.drop(columns=['mpg']), Auto['mpg']\n",
        "\n",
        "hp_model = sklearn_sm(sm.OLS,\n",
        "                      MS(['horsepower']))\n",
        "cv_results = cross_validate(hp_model,\n",
        "                            X,\n",
        "                            Y,\n",
        "                            cv=Auto.shape[0])\n",
        "cv_err = np.mean(cv_results['test_score'])\n",
        "cv_err"
      ]
    },
    {
      "cell_type": "code",
      "execution_count": null,
      "id": "9ac5c3cf",
      "metadata": {
        "vscode": {
          "languageId": "python"
        }
      },
      "outputs": [],
      "source": [
        "import statsmodels.api as sm\n",
        "from sklearn.base import BaseEstimator, RegressorMixin\n",
        "\n",
        "class StatsmodelsLinearRegression(BaseEstimator, RegressorMixin):\n",
        "    def __init__(self):\n",
        "        self.model_ = None\n",
        "\n",
        "    def fit(self, X, y):\n",
        "        X = sm.add_constant(X)  # Ajout d'une constante pour l'intercept\n",
        "        self.model_ = sm.OLS(y, X).fit()\n",
        "        return self\n",
        "\n",
        "    def predict(self, X):\n",
        "        X = sm.add_constant(X)  # Ajout de l'intercept pour la prédiction\n",
        "        return self.model_.predict(X)\n",
        "\n",
        "    def summary(self):\n",
        "        return self.model_.summary()"
      ]
    },
    {
      "cell_type": "code",
      "execution_count": null,
      "id": "31863933",
      "metadata": {
        "vscode": {
          "languageId": "python"
        }
      },
      "outputs": [],
      "source": [
        "# 📌 Données factices\n",
        "data = pd.read_csv(\"data/Boston.csv\")\n",
        "\n",
        "# 📌 Variables et interactions\n",
        "terms = ['lstat', 'age']\n",
        "\n",
        "y = data['medv']\n",
        "\n",
        "\n",
        "# 📌 Construction du pipeline\n",
        "pipeline = make_pipeline(\n",
        "    CustomDataTransformer(terms),\n",
        "    StatsmodelsLinearRegression()\n",
        ")\n",
        "\n",
        "# 📌 Entraînement du modèle\n",
        "pipeline.fit(data, y)\n",
        "\n",
        "# 📌 Prédiction\n",
        "predictions = pipeline.predict(data)\n",
        "\n",
        "# 📌 Affichage du résumé de la régression\n",
        "print(pipeline.named_steps[\"statsmodelslinearregression\"].summary())"
      ]
    }
  ],
  "metadata": {
    "kernelspec": {
      "display_name": "Python 3 (ipykernel)",
      "language": "python",
      "name": "python3"
    }
  },
  "nbformat": 4,
  "nbformat_minor": 5
}
