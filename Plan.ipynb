{
  "cells": [
    {
      "cell_type": "raw",
      "id": "0f99d3c9",
      "metadata": {},
      "source": [
        "---\n",
        "title: Prelim\n",
        "format:\n",
        "  html:\n",
        "    code-fold: true\n",
        "---"
      ]
    },
    {
      "cell_type": "markdown",
      "id": "6f79bdc7",
      "metadata": {},
      "source": [
        "1 - Create a repo in Github and clone it on local drive\n",
        "2 - Set up Python environnement\n",
        "3 - Create core folder to keep my functions\n",
        "4 - Create data folder\n",
        "5 - function summarise\n",
        "6 - check for quick linear regression\n",
        " python3 -m ipykernel install --user --name venv\n",
        "\n",
        "\n",
        "# Packages"
      ]
    },
    {
      "cell_type": "code",
      "execution_count": 1,
      "id": "0fe017db",
      "metadata": {},
      "outputs": [],
      "source": [
        "import numpy as np\n",
        "import pandas as pd\n",
        "from matplotlib.pyplot import subplots\n",
        "import statsmodels.api as sm\n",
        "from statsmodels.stats.anova import anova_lm\n",
        "from functools import partial\n",
        "from sklearn.model_selection import train_test_split\n",
        "from sklearn.pipeline import make_pipeline"
      ]
    },
    {
      "cell_type": "markdown",
      "id": "d40765c3",
      "metadata": {},
      "source": [
        "# Personal Packages"
      ]
    },
    {
      "cell_type": "code",
      "execution_count": 2,
      "id": "213f60e3",
      "metadata": {},
      "outputs": [],
      "source": [
        "from core.helpers import summarize\n",
        "from core.helpers import transform_df_for_model\n",
        "from core.helpers import sklearn_sm"
      ]
    },
    {
      "cell_type": "markdown",
      "id": "7610b3b7",
      "metadata": {},
      "source": [
        "# Linear regression : 1 variable\n",
        "## Simple way"
      ]
    },
    {
      "cell_type": "code",
      "execution_count": 3,
      "id": "162a87ca",
      "metadata": {},
      "outputs": [
        {
          "data": {
            "text/html": [
              "<div>\n",
              "<style scoped>\n",
              "    .dataframe tbody tr th:only-of-type {\n",
              "        vertical-align: middle;\n",
              "    }\n",
              "\n",
              "    .dataframe tbody tr th {\n",
              "        vertical-align: top;\n",
              "    }\n",
              "\n",
              "    .dataframe thead th {\n",
              "        text-align: right;\n",
              "    }\n",
              "</style>\n",
              "<table border=\"1\" class=\"dataframe\">\n",
              "  <thead>\n",
              "    <tr style=\"text-align: right;\">\n",
              "      <th></th>\n",
              "      <th>coef</th>\n",
              "      <th>std err</th>\n",
              "      <th>t</th>\n",
              "      <th>P&gt;|t|</th>\n",
              "    </tr>\n",
              "  </thead>\n",
              "  <tbody>\n",
              "    <tr>\n",
              "      <th>intercept</th>\n",
              "      <td>34.5538</td>\n",
              "      <td>0.563</td>\n",
              "      <td>61.415</td>\n",
              "      <td>0.0</td>\n",
              "    </tr>\n",
              "    <tr>\n",
              "      <th>lstat</th>\n",
              "      <td>-0.9500</td>\n",
              "      <td>0.039</td>\n",
              "      <td>-24.528</td>\n",
              "      <td>0.0</td>\n",
              "    </tr>\n",
              "  </tbody>\n",
              "</table>\n",
              "</div>"
            ],
            "text/plain": [
              "              coef  std err       t  P>|t|\n",
              "intercept  34.5538    0.563  61.415    0.0\n",
              "lstat      -0.9500    0.039 -24.528    0.0"
            ]
          },
          "execution_count": 3,
          "metadata": {},
          "output_type": "execute_result"
        }
      ],
      "source": [
        "Boston = pd.read_csv(\"data/Boston.csv\")\n",
        "df = pd.DataFrame({'intercept': np.ones(Boston.shape[0]),\n",
        "                  'lstat': Boston['lstat']})\n",
        "y = Boston['medv']\n",
        "model = sm.OLS(y, df)\n",
        "results = model.fit()\n",
        "summarize(results)"
      ]
    },
    {
      "cell_type": "markdown",
      "id": "89edb3e4",
      "metadata": {},
      "source": [
        "## Using my own function"
      ]
    },
    {
      "cell_type": "code",
      "execution_count": 4,
      "id": "25cd854a",
      "metadata": {},
      "outputs": [
        {
          "data": {
            "text/html": [
              "<div>\n",
              "<style scoped>\n",
              "    .dataframe tbody tr th:only-of-type {\n",
              "        vertical-align: middle;\n",
              "    }\n",
              "\n",
              "    .dataframe tbody tr th {\n",
              "        vertical-align: top;\n",
              "    }\n",
              "\n",
              "    .dataframe thead th {\n",
              "        text-align: right;\n",
              "    }\n",
              "</style>\n",
              "<table border=\"1\" class=\"dataframe\">\n",
              "  <thead>\n",
              "    <tr style=\"text-align: right;\">\n",
              "      <th></th>\n",
              "      <th>coef</th>\n",
              "      <th>std err</th>\n",
              "      <th>t</th>\n",
              "      <th>P&gt;|t|</th>\n",
              "    </tr>\n",
              "  </thead>\n",
              "  <tbody>\n",
              "    <tr>\n",
              "      <th>intercept</th>\n",
              "      <td>34.5538</td>\n",
              "      <td>0.563</td>\n",
              "      <td>61.415</td>\n",
              "      <td>0.0</td>\n",
              "    </tr>\n",
              "    <tr>\n",
              "      <th>lstat</th>\n",
              "      <td>-0.9500</td>\n",
              "      <td>0.039</td>\n",
              "      <td>-24.528</td>\n",
              "      <td>0.0</td>\n",
              "    </tr>\n",
              "  </tbody>\n",
              "</table>\n",
              "</div>"
            ],
            "text/plain": [
              "              coef  std err       t  P>|t|\n",
              "intercept  34.5538    0.563  61.415    0.0\n",
              "lstat      -0.9500    0.039 -24.528    0.0"
            ]
          },
          "execution_count": 4,
          "metadata": {},
          "output_type": "execute_result"
        }
      ],
      "source": [
        "X = transform_df_for_model(df,['lstat'])\n",
        "y = Boston['medv']\n",
        "model = sm.OLS(y, X)\n",
        "results = model.fit()\n",
        "summarize(results)"
      ]
    },
    {
      "cell_type": "code",
      "execution_count": 5,
      "id": "da949f33",
      "metadata": {},
      "outputs": [
        {
          "data": {
            "text/html": [
              "<table class=\"simpletable\">\n",
              "<caption>OLS Regression Results</caption>\n",
              "<tr>\n",
              "  <th>Dep. Variable:</th>          <td>medv</td>       <th>  R-squared:         </th> <td>   0.544</td>\n",
              "</tr>\n",
              "<tr>\n",
              "  <th>Model:</th>                   <td>OLS</td>       <th>  Adj. R-squared:    </th> <td>   0.543</td>\n",
              "</tr>\n",
              "<tr>\n",
              "  <th>Method:</th>             <td>Least Squares</td>  <th>  F-statistic:       </th> <td>   601.6</td>\n",
              "</tr>\n",
              "<tr>\n",
              "  <th>Date:</th>             <td>Tue, 18 Mar 2025</td> <th>  Prob (F-statistic):</th> <td>5.08e-88</td>\n",
              "</tr>\n",
              "<tr>\n",
              "  <th>Time:</th>                 <td>21:49:56</td>     <th>  Log-Likelihood:    </th> <td> -1641.5</td>\n",
              "</tr>\n",
              "<tr>\n",
              "  <th>No. Observations:</th>      <td>   506</td>      <th>  AIC:               </th> <td>   3287.</td>\n",
              "</tr>\n",
              "<tr>\n",
              "  <th>Df Residuals:</th>          <td>   504</td>      <th>  BIC:               </th> <td>   3295.</td>\n",
              "</tr>\n",
              "<tr>\n",
              "  <th>Df Model:</th>              <td>     1</td>      <th>                     </th>     <td> </td>   \n",
              "</tr>\n",
              "<tr>\n",
              "  <th>Covariance Type:</th>      <td>nonrobust</td>    <th>                     </th>     <td> </td>   \n",
              "</tr>\n",
              "</table>\n",
              "<table class=\"simpletable\">\n",
              "<tr>\n",
              "      <td></td>         <th>coef</th>     <th>std err</th>      <th>t</th>      <th>P>|t|</th>  <th>[0.025</th>    <th>0.975]</th>  \n",
              "</tr>\n",
              "<tr>\n",
              "  <th>intercept</th> <td>   34.5538</td> <td>    0.563</td> <td>   61.415</td> <td> 0.000</td> <td>   33.448</td> <td>   35.659</td>\n",
              "</tr>\n",
              "<tr>\n",
              "  <th>lstat</th>     <td>   -0.9500</td> <td>    0.039</td> <td>  -24.528</td> <td> 0.000</td> <td>   -1.026</td> <td>   -0.874</td>\n",
              "</tr>\n",
              "</table>\n",
              "<table class=\"simpletable\">\n",
              "<tr>\n",
              "  <th>Omnibus:</th>       <td>137.043</td> <th>  Durbin-Watson:     </th> <td>   0.892</td>\n",
              "</tr>\n",
              "<tr>\n",
              "  <th>Prob(Omnibus):</th> <td> 0.000</td>  <th>  Jarque-Bera (JB):  </th> <td> 291.373</td>\n",
              "</tr>\n",
              "<tr>\n",
              "  <th>Skew:</th>          <td> 1.453</td>  <th>  Prob(JB):          </th> <td>5.36e-64</td>\n",
              "</tr>\n",
              "<tr>\n",
              "  <th>Kurtosis:</th>      <td> 5.319</td>  <th>  Cond. No.          </th> <td>    29.7</td>\n",
              "</tr>\n",
              "</table><br/><br/>Notes:<br/>[1] Standard Errors assume that the covariance matrix of the errors is correctly specified."
            ],
            "text/latex": [
              "\\begin{center}\n",
              "\\begin{tabular}{lclc}\n",
              "\\toprule\n",
              "\\textbf{Dep. Variable:}    &       medv       & \\textbf{  R-squared:         } &     0.544   \\\\\n",
              "\\textbf{Model:}            &       OLS        & \\textbf{  Adj. R-squared:    } &     0.543   \\\\\n",
              "\\textbf{Method:}           &  Least Squares   & \\textbf{  F-statistic:       } &     601.6   \\\\\n",
              "\\textbf{Date:}             & Tue, 18 Mar 2025 & \\textbf{  Prob (F-statistic):} &  5.08e-88   \\\\\n",
              "\\textbf{Time:}             &     21:49:56     & \\textbf{  Log-Likelihood:    } &   -1641.5   \\\\\n",
              "\\textbf{No. Observations:} &         506      & \\textbf{  AIC:               } &     3287.   \\\\\n",
              "\\textbf{Df Residuals:}     &         504      & \\textbf{  BIC:               } &     3295.   \\\\\n",
              "\\textbf{Df Model:}         &           1      & \\textbf{                     } &             \\\\\n",
              "\\textbf{Covariance Type:}  &    nonrobust     & \\textbf{                     } &             \\\\\n",
              "\\bottomrule\n",
              "\\end{tabular}\n",
              "\\begin{tabular}{lcccccc}\n",
              "                   & \\textbf{coef} & \\textbf{std err} & \\textbf{t} & \\textbf{P$> |$t$|$} & \\textbf{[0.025} & \\textbf{0.975]}  \\\\\n",
              "\\midrule\n",
              "\\textbf{intercept} &      34.5538  &        0.563     &    61.415  &         0.000        &       33.448    &       35.659     \\\\\n",
              "\\textbf{lstat}     &      -0.9500  &        0.039     &   -24.528  &         0.000        &       -1.026    &       -0.874     \\\\\n",
              "\\bottomrule\n",
              "\\end{tabular}\n",
              "\\begin{tabular}{lclc}\n",
              "\\textbf{Omnibus:}       & 137.043 & \\textbf{  Durbin-Watson:     } &    0.892  \\\\\n",
              "\\textbf{Prob(Omnibus):} &   0.000 & \\textbf{  Jarque-Bera (JB):  } &  291.373  \\\\\n",
              "\\textbf{Skew:}          &   1.453 & \\textbf{  Prob(JB):          } & 5.36e-64  \\\\\n",
              "\\textbf{Kurtosis:}      &   5.319 & \\textbf{  Cond. No.          } &     29.7  \\\\\n",
              "\\bottomrule\n",
              "\\end{tabular}\n",
              "%\\caption{OLS Regression Results}\n",
              "\\end{center}\n",
              "\n",
              "Notes: \\newline\n",
              " [1] Standard Errors assume that the covariance matrix of the errors is correctly specified."
            ],
            "text/plain": [
              "<class 'statsmodels.iolib.summary.Summary'>\n",
              "\"\"\"\n",
              "                            OLS Regression Results                            \n",
              "==============================================================================\n",
              "Dep. Variable:                   medv   R-squared:                       0.544\n",
              "Model:                            OLS   Adj. R-squared:                  0.543\n",
              "Method:                 Least Squares   F-statistic:                     601.6\n",
              "Date:                Tue, 18 Mar 2025   Prob (F-statistic):           5.08e-88\n",
              "Time:                        21:49:56   Log-Likelihood:                -1641.5\n",
              "No. Observations:                 506   AIC:                             3287.\n",
              "Df Residuals:                     504   BIC:                             3295.\n",
              "Df Model:                           1                                         \n",
              "Covariance Type:            nonrobust                                         \n",
              "==============================================================================\n",
              "                 coef    std err          t      P>|t|      [0.025      0.975]\n",
              "------------------------------------------------------------------------------\n",
              "intercept     34.5538      0.563     61.415      0.000      33.448      35.659\n",
              "lstat         -0.9500      0.039    -24.528      0.000      -1.026      -0.874\n",
              "==============================================================================\n",
              "Omnibus:                      137.043   Durbin-Watson:                   0.892\n",
              "Prob(Omnibus):                  0.000   Jarque-Bera (JB):              291.373\n",
              "Skew:                           1.453   Prob(JB):                     5.36e-64\n",
              "Kurtosis:                       5.319   Cond. No.                         29.7\n",
              "==============================================================================\n",
              "\n",
              "Notes:\n",
              "[1] Standard Errors assume that the covariance matrix of the errors is correctly specified.\n",
              "\"\"\""
            ]
          },
          "execution_count": 5,
          "metadata": {},
          "output_type": "execute_result"
        }
      ],
      "source": [
        "results.summary()"
      ]
    },
    {
      "cell_type": "markdown",
      "id": "76bb21a1",
      "metadata": {},
      "source": [
        "### Predictions"
      ]
    },
    {
      "cell_type": "code",
      "execution_count": 6,
      "id": "b5f76f36",
      "metadata": {},
      "outputs": [
        {
          "data": {
            "text/html": [
              "<div>\n",
              "<style scoped>\n",
              "    .dataframe tbody tr th:only-of-type {\n",
              "        vertical-align: middle;\n",
              "    }\n",
              "\n",
              "    .dataframe tbody tr th {\n",
              "        vertical-align: top;\n",
              "    }\n",
              "\n",
              "    .dataframe thead th {\n",
              "        text-align: right;\n",
              "    }\n",
              "</style>\n",
              "<table border=\"1\" class=\"dataframe\">\n",
              "  <thead>\n",
              "    <tr style=\"text-align: right;\">\n",
              "      <th></th>\n",
              "      <th>intercept</th>\n",
              "      <th>lstat</th>\n",
              "    </tr>\n",
              "  </thead>\n",
              "  <tbody>\n",
              "    <tr>\n",
              "      <th>0</th>\n",
              "      <td>1.0</td>\n",
              "      <td>5</td>\n",
              "    </tr>\n",
              "    <tr>\n",
              "      <th>1</th>\n",
              "      <td>1.0</td>\n",
              "      <td>10</td>\n",
              "    </tr>\n",
              "    <tr>\n",
              "      <th>2</th>\n",
              "      <td>1.0</td>\n",
              "      <td>15</td>\n",
              "    </tr>\n",
              "  </tbody>\n",
              "</table>\n",
              "</div>"
            ],
            "text/plain": [
              "   intercept  lstat\n",
              "0        1.0      5\n",
              "1        1.0     10\n",
              "2        1.0     15"
            ]
          },
          "execution_count": 6,
          "metadata": {},
          "output_type": "execute_result"
        }
      ],
      "source": [
        "new_df = pd.DataFrame({'lstat':[5, 10, 15]})\n",
        "variables = ['lstat']\n",
        "newX = transform_df_for_model(new_df, variables)\n",
        "newX"
      ]
    },
    {
      "cell_type": "code",
      "execution_count": 7,
      "id": "5744ecd5",
      "metadata": {},
      "outputs": [
        {
          "name": "stdout",
          "output_type": "stream",
          "text": [
            "[29.80359411 25.05334734 20.30310057]\n"
          ]
        },
        {
          "data": {
            "text/plain": [
              "array([[29.00741194, 30.59977628],\n",
              "       [24.47413202, 25.63256267],\n",
              "       [19.73158815, 20.87461299]])"
            ]
          },
          "execution_count": 7,
          "metadata": {},
          "output_type": "execute_result"
        }
      ],
      "source": [
        "new_predictions = results.get_prediction(newX)\n",
        "print(new_predictions.predicted_mean)\n",
        "new_predictions.conf_int(alpha=0.05)"
      ]
    },
    {
      "cell_type": "markdown",
      "id": "b0788b53",
      "metadata": {},
      "source": [
        "Prediction interval"
      ]
    },
    {
      "cell_type": "code",
      "execution_count": 8,
      "id": "3e5a0a9d",
      "metadata": {},
      "outputs": [
        {
          "data": {
            "text/plain": [
              "array([[17.56567478, 42.04151344],\n",
              "       [12.82762635, 37.27906833],\n",
              "       [ 8.0777421 , 32.52845905]])"
            ]
          },
          "execution_count": 8,
          "metadata": {},
          "output_type": "execute_result"
        }
      ],
      "source": [
        "new_predictions.conf_int(obs=True, alpha=0.05)"
      ]
    },
    {
      "cell_type": "markdown",
      "id": "03b567d8",
      "metadata": {},
      "source": [
        "# Linear regression : 2 variables"
      ]
    },
    {
      "cell_type": "code",
      "execution_count": 9,
      "id": "044a480d",
      "metadata": {},
      "outputs": [
        {
          "data": {
            "text/html": [
              "<div>\n",
              "<style scoped>\n",
              "    .dataframe tbody tr th:only-of-type {\n",
              "        vertical-align: middle;\n",
              "    }\n",
              "\n",
              "    .dataframe tbody tr th {\n",
              "        vertical-align: top;\n",
              "    }\n",
              "\n",
              "    .dataframe thead th {\n",
              "        text-align: right;\n",
              "    }\n",
              "</style>\n",
              "<table border=\"1\" class=\"dataframe\">\n",
              "  <thead>\n",
              "    <tr style=\"text-align: right;\">\n",
              "      <th></th>\n",
              "      <th>coef</th>\n",
              "      <th>std err</th>\n",
              "      <th>t</th>\n",
              "      <th>P&gt;|t|</th>\n",
              "    </tr>\n",
              "  </thead>\n",
              "  <tbody>\n",
              "    <tr>\n",
              "      <th>intercept</th>\n",
              "      <td>33.2228</td>\n",
              "      <td>0.731</td>\n",
              "      <td>45.458</td>\n",
              "      <td>0.000</td>\n",
              "    </tr>\n",
              "    <tr>\n",
              "      <th>lstat</th>\n",
              "      <td>-1.0321</td>\n",
              "      <td>0.048</td>\n",
              "      <td>-21.416</td>\n",
              "      <td>0.000</td>\n",
              "    </tr>\n",
              "    <tr>\n",
              "      <th>age</th>\n",
              "      <td>0.0345</td>\n",
              "      <td>0.012</td>\n",
              "      <td>2.826</td>\n",
              "      <td>0.005</td>\n",
              "    </tr>\n",
              "  </tbody>\n",
              "</table>\n",
              "</div>"
            ],
            "text/plain": [
              "              coef  std err       t  P>|t|\n",
              "intercept  33.2228    0.731  45.458  0.000\n",
              "lstat      -1.0321    0.048 -21.416  0.000\n",
              "age         0.0345    0.012   2.826  0.005"
            ]
          },
          "execution_count": 9,
          "metadata": {},
          "output_type": "execute_result"
        }
      ],
      "source": [
        "Boston = pd.read_csv(\"data/Boston.csv\")\n",
        "X = transform_df_for_model(Boston,['lstat', 'age'])\n",
        "model1 = sm.OLS(y, X)\n",
        "results1 = model1.fit()\n",
        "summarize(results1)"
      ]
    },
    {
      "cell_type": "code",
      "execution_count": 10,
      "id": "a5bfb3bd",
      "metadata": {},
      "outputs": [
        {
          "data": {
            "text/html": [
              "<div>\n",
              "<style scoped>\n",
              "    .dataframe tbody tr th:only-of-type {\n",
              "        vertical-align: middle;\n",
              "    }\n",
              "\n",
              "    .dataframe tbody tr th {\n",
              "        vertical-align: top;\n",
              "    }\n",
              "\n",
              "    .dataframe thead th {\n",
              "        text-align: right;\n",
              "    }\n",
              "</style>\n",
              "<table border=\"1\" class=\"dataframe\">\n",
              "  <thead>\n",
              "    <tr style=\"text-align: right;\">\n",
              "      <th></th>\n",
              "      <th>coef</th>\n",
              "      <th>std err</th>\n",
              "      <th>t</th>\n",
              "      <th>P&gt;|t|</th>\n",
              "    </tr>\n",
              "  </thead>\n",
              "  <tbody>\n",
              "    <tr>\n",
              "      <th>intercept</th>\n",
              "      <td>41.6173</td>\n",
              "      <td>4.936</td>\n",
              "      <td>8.431</td>\n",
              "      <td>0.000</td>\n",
              "    </tr>\n",
              "    <tr>\n",
              "      <th>crim</th>\n",
              "      <td>-0.1214</td>\n",
              "      <td>0.033</td>\n",
              "      <td>-3.678</td>\n",
              "      <td>0.000</td>\n",
              "    </tr>\n",
              "    <tr>\n",
              "      <th>zn</th>\n",
              "      <td>0.0470</td>\n",
              "      <td>0.014</td>\n",
              "      <td>3.384</td>\n",
              "      <td>0.001</td>\n",
              "    </tr>\n",
              "    <tr>\n",
              "      <th>indus</th>\n",
              "      <td>0.0135</td>\n",
              "      <td>0.062</td>\n",
              "      <td>0.217</td>\n",
              "      <td>0.829</td>\n",
              "    </tr>\n",
              "    <tr>\n",
              "      <th>chas</th>\n",
              "      <td>2.8400</td>\n",
              "      <td>0.870</td>\n",
              "      <td>3.264</td>\n",
              "      <td>0.001</td>\n",
              "    </tr>\n",
              "    <tr>\n",
              "      <th>nox</th>\n",
              "      <td>-18.7580</td>\n",
              "      <td>3.851</td>\n",
              "      <td>-4.870</td>\n",
              "      <td>0.000</td>\n",
              "    </tr>\n",
              "    <tr>\n",
              "      <th>rm</th>\n",
              "      <td>3.6581</td>\n",
              "      <td>0.420</td>\n",
              "      <td>8.705</td>\n",
              "      <td>0.000</td>\n",
              "    </tr>\n",
              "    <tr>\n",
              "      <th>age</th>\n",
              "      <td>0.0036</td>\n",
              "      <td>0.013</td>\n",
              "      <td>0.271</td>\n",
              "      <td>0.787</td>\n",
              "    </tr>\n",
              "    <tr>\n",
              "      <th>dis</th>\n",
              "      <td>-1.4908</td>\n",
              "      <td>0.202</td>\n",
              "      <td>-7.394</td>\n",
              "      <td>0.000</td>\n",
              "    </tr>\n",
              "    <tr>\n",
              "      <th>rad</th>\n",
              "      <td>0.2894</td>\n",
              "      <td>0.067</td>\n",
              "      <td>4.325</td>\n",
              "      <td>0.000</td>\n",
              "    </tr>\n",
              "    <tr>\n",
              "      <th>tax</th>\n",
              "      <td>-0.0127</td>\n",
              "      <td>0.004</td>\n",
              "      <td>-3.337</td>\n",
              "      <td>0.001</td>\n",
              "    </tr>\n",
              "    <tr>\n",
              "      <th>ptratio</th>\n",
              "      <td>-0.9375</td>\n",
              "      <td>0.132</td>\n",
              "      <td>-7.091</td>\n",
              "      <td>0.000</td>\n",
              "    </tr>\n",
              "    <tr>\n",
              "      <th>lstat</th>\n",
              "      <td>-0.5520</td>\n",
              "      <td>0.051</td>\n",
              "      <td>-10.897</td>\n",
              "      <td>0.000</td>\n",
              "    </tr>\n",
              "  </tbody>\n",
              "</table>\n",
              "</div>"
            ],
            "text/plain": [
              "              coef  std err       t  P>|t|\n",
              "intercept  41.6173    4.936   8.431  0.000\n",
              "crim       -0.1214    0.033  -3.678  0.000\n",
              "zn          0.0470    0.014   3.384  0.001\n",
              "indus       0.0135    0.062   0.217  0.829\n",
              "chas        2.8400    0.870   3.264  0.001\n",
              "nox       -18.7580    3.851  -4.870  0.000\n",
              "rm          3.6581    0.420   8.705  0.000\n",
              "age         0.0036    0.013   0.271  0.787\n",
              "dis        -1.4908    0.202  -7.394  0.000\n",
              "rad         0.2894    0.067   4.325  0.000\n",
              "tax        -0.0127    0.004  -3.337  0.001\n",
              "ptratio    -0.9375    0.132  -7.091  0.000\n",
              "lstat      -0.5520    0.051 -10.897  0.000"
            ]
          },
          "execution_count": 10,
          "metadata": {},
          "output_type": "execute_result"
        }
      ],
      "source": [
        "terms = Boston.columns.drop(\"medv\")\n",
        "X = transform_df_for_model(Boston, terms)\n",
        "model = sm.OLS(y, X)\n",
        "results = model.fit()\n",
        "summarize(results)"
      ]
    },
    {
      "cell_type": "markdown",
      "id": "0b8eb1b0",
      "metadata": {},
      "source": [
        "## with interactions"
      ]
    },
    {
      "cell_type": "code",
      "execution_count": 11,
      "id": "3ac45b97",
      "metadata": {},
      "outputs": [
        {
          "data": {
            "text/html": [
              "<table class=\"simpletable\">\n",
              "<caption>OLS Regression Results</caption>\n",
              "<tr>\n",
              "  <th>Dep. Variable:</th>          <td>medv</td>       <th>  R-squared:         </th> <td>   0.556</td>\n",
              "</tr>\n",
              "<tr>\n",
              "  <th>Model:</th>                   <td>OLS</td>       <th>  Adj. R-squared:    </th> <td>   0.553</td>\n",
              "</tr>\n",
              "<tr>\n",
              "  <th>Method:</th>             <td>Least Squares</td>  <th>  F-statistic:       </th> <td>   209.3</td>\n",
              "</tr>\n",
              "<tr>\n",
              "  <th>Date:</th>             <td>Tue, 18 Mar 2025</td> <th>  Prob (F-statistic):</th> <td>4.86e-88</td>\n",
              "</tr>\n",
              "<tr>\n",
              "  <th>Time:</th>                 <td>21:49:56</td>     <th>  Log-Likelihood:    </th> <td> -1635.0</td>\n",
              "</tr>\n",
              "<tr>\n",
              "  <th>No. Observations:</th>      <td>   506</td>      <th>  AIC:               </th> <td>   3278.</td>\n",
              "</tr>\n",
              "<tr>\n",
              "  <th>Df Residuals:</th>          <td>   502</td>      <th>  BIC:               </th> <td>   3295.</td>\n",
              "</tr>\n",
              "<tr>\n",
              "  <th>Df Model:</th>              <td>     3</td>      <th>                     </th>     <td> </td>   \n",
              "</tr>\n",
              "<tr>\n",
              "  <th>Covariance Type:</th>      <td>nonrobust</td>    <th>                     </th>     <td> </td>   \n",
              "</tr>\n",
              "</table>\n",
              "<table class=\"simpletable\">\n",
              "<tr>\n",
              "      <td></td>         <th>coef</th>     <th>std err</th>      <th>t</th>      <th>P>|t|</th>  <th>[0.025</th>    <th>0.975]</th>  \n",
              "</tr>\n",
              "<tr>\n",
              "  <th>intercept</th> <td>   36.0885</td> <td>    1.470</td> <td>   24.553</td> <td> 0.000</td> <td>   33.201</td> <td>   38.976</td>\n",
              "</tr>\n",
              "<tr>\n",
              "  <th>lstat</th>     <td>   -1.3921</td> <td>    0.167</td> <td>   -8.313</td> <td> 0.000</td> <td>   -1.721</td> <td>   -1.063</td>\n",
              "</tr>\n",
              "<tr>\n",
              "  <th>age</th>       <td>   -0.0007</td> <td>    0.020</td> <td>   -0.036</td> <td> 0.971</td> <td>   -0.040</td> <td>    0.038</td>\n",
              "</tr>\n",
              "<tr>\n",
              "  <th>lstat:age</th> <td>    0.0042</td> <td>    0.002</td> <td>    2.244</td> <td> 0.025</td> <td>    0.001</td> <td>    0.008</td>\n",
              "</tr>\n",
              "</table>\n",
              "<table class=\"simpletable\">\n",
              "<tr>\n",
              "  <th>Omnibus:</th>       <td>135.601</td> <th>  Durbin-Watson:     </th> <td>   0.965</td>\n",
              "</tr>\n",
              "<tr>\n",
              "  <th>Prob(Omnibus):</th> <td> 0.000</td>  <th>  Jarque-Bera (JB):  </th> <td> 296.955</td>\n",
              "</tr>\n",
              "<tr>\n",
              "  <th>Skew:</th>          <td> 1.417</td>  <th>  Prob(JB):          </th> <td>3.29e-65</td>\n",
              "</tr>\n",
              "<tr>\n",
              "  <th>Kurtosis:</th>      <td> 5.461</td>  <th>  Cond. No.          </th> <td>6.88e+03</td>\n",
              "</tr>\n",
              "</table><br/><br/>Notes:<br/>[1] Standard Errors assume that the covariance matrix of the errors is correctly specified.<br/>[2] The condition number is large, 6.88e+03. This might indicate that there are<br/>strong multicollinearity or other numerical problems."
            ],
            "text/latex": [
              "\\begin{center}\n",
              "\\begin{tabular}{lclc}\n",
              "\\toprule\n",
              "\\textbf{Dep. Variable:}    &       medv       & \\textbf{  R-squared:         } &     0.556   \\\\\n",
              "\\textbf{Model:}            &       OLS        & \\textbf{  Adj. R-squared:    } &     0.553   \\\\\n",
              "\\textbf{Method:}           &  Least Squares   & \\textbf{  F-statistic:       } &     209.3   \\\\\n",
              "\\textbf{Date:}             & Tue, 18 Mar 2025 & \\textbf{  Prob (F-statistic):} &  4.86e-88   \\\\\n",
              "\\textbf{Time:}             &     21:49:56     & \\textbf{  Log-Likelihood:    } &   -1635.0   \\\\\n",
              "\\textbf{No. Observations:} &         506      & \\textbf{  AIC:               } &     3278.   \\\\\n",
              "\\textbf{Df Residuals:}     &         502      & \\textbf{  BIC:               } &     3295.   \\\\\n",
              "\\textbf{Df Model:}         &           3      & \\textbf{                     } &             \\\\\n",
              "\\textbf{Covariance Type:}  &    nonrobust     & \\textbf{                     } &             \\\\\n",
              "\\bottomrule\n",
              "\\end{tabular}\n",
              "\\begin{tabular}{lcccccc}\n",
              "                   & \\textbf{coef} & \\textbf{std err} & \\textbf{t} & \\textbf{P$> |$t$|$} & \\textbf{[0.025} & \\textbf{0.975]}  \\\\\n",
              "\\midrule\n",
              "\\textbf{intercept} &      36.0885  &        1.470     &    24.553  &         0.000        &       33.201    &       38.976     \\\\\n",
              "\\textbf{lstat}     &      -1.3921  &        0.167     &    -8.313  &         0.000        &       -1.721    &       -1.063     \\\\\n",
              "\\textbf{age}       &      -0.0007  &        0.020     &    -0.036  &         0.971        &       -0.040    &        0.038     \\\\\n",
              "\\textbf{lstat:age} &       0.0042  &        0.002     &     2.244  &         0.025        &        0.001    &        0.008     \\\\\n",
              "\\bottomrule\n",
              "\\end{tabular}\n",
              "\\begin{tabular}{lclc}\n",
              "\\textbf{Omnibus:}       & 135.601 & \\textbf{  Durbin-Watson:     } &    0.965  \\\\\n",
              "\\textbf{Prob(Omnibus):} &   0.000 & \\textbf{  Jarque-Bera (JB):  } &  296.955  \\\\\n",
              "\\textbf{Skew:}          &   1.417 & \\textbf{  Prob(JB):          } & 3.29e-65  \\\\\n",
              "\\textbf{Kurtosis:}      &   5.461 & \\textbf{  Cond. No.          } & 6.88e+03  \\\\\n",
              "\\bottomrule\n",
              "\\end{tabular}\n",
              "%\\caption{OLS Regression Results}\n",
              "\\end{center}\n",
              "\n",
              "Notes: \\newline\n",
              " [1] Standard Errors assume that the covariance matrix of the errors is correctly specified. \\newline\n",
              " [2] The condition number is large, 6.88e+03. This might indicate that there are \\newline\n",
              " strong multicollinearity or other numerical problems."
            ],
            "text/plain": [
              "<class 'statsmodels.iolib.summary.Summary'>\n",
              "\"\"\"\n",
              "                            OLS Regression Results                            \n",
              "==============================================================================\n",
              "Dep. Variable:                   medv   R-squared:                       0.556\n",
              "Model:                            OLS   Adj. R-squared:                  0.553\n",
              "Method:                 Least Squares   F-statistic:                     209.3\n",
              "Date:                Tue, 18 Mar 2025   Prob (F-statistic):           4.86e-88\n",
              "Time:                        21:49:56   Log-Likelihood:                -1635.0\n",
              "No. Observations:                 506   AIC:                             3278.\n",
              "Df Residuals:                     502   BIC:                             3295.\n",
              "Df Model:                           3                                         \n",
              "Covariance Type:            nonrobust                                         \n",
              "==============================================================================\n",
              "                 coef    std err          t      P>|t|      [0.025      0.975]\n",
              "------------------------------------------------------------------------------\n",
              "intercept     36.0885      1.470     24.553      0.000      33.201      38.976\n",
              "lstat         -1.3921      0.167     -8.313      0.000      -1.721      -1.063\n",
              "age           -0.0007      0.020     -0.036      0.971      -0.040       0.038\n",
              "lstat:age      0.0042      0.002      2.244      0.025       0.001       0.008\n",
              "==============================================================================\n",
              "Omnibus:                      135.601   Durbin-Watson:                   0.965\n",
              "Prob(Omnibus):                  0.000   Jarque-Bera (JB):              296.955\n",
              "Skew:                           1.417   Prob(JB):                     3.29e-65\n",
              "Kurtosis:                       5.461   Cond. No.                     6.88e+03\n",
              "==============================================================================\n",
              "\n",
              "Notes:\n",
              "[1] Standard Errors assume that the covariance matrix of the errors is correctly specified.\n",
              "[2] The condition number is large, 6.88e+03. This might indicate that there are\n",
              "strong multicollinearity or other numerical problems.\n",
              "\"\"\""
            ]
          },
          "execution_count": 11,
          "metadata": {},
          "output_type": "execute_result"
        }
      ],
      "source": [
        "X = transform_df_for_model(Boston, ['lstat','age'],interactions = [('lstat', 'age')])\n",
        "model2 = sm.OLS(y, X)\n",
        "\n",
        "results2 = model2.fit()\n",
        "summarize(model2.fit())\n",
        "results2.summary()"
      ]
    },
    {
      "cell_type": "markdown",
      "id": "dff8d3d2",
      "metadata": {},
      "source": [
        "How to use anova_lm\n",
        "anova(reduced,full)\n",
        "Ho no need the full model\n"
      ]
    },
    {
      "cell_type": "code",
      "execution_count": 12,
      "id": "5c54a006",
      "metadata": {},
      "outputs": [
        {
          "data": {
            "text/html": [
              "<div>\n",
              "<style scoped>\n",
              "    .dataframe tbody tr th:only-of-type {\n",
              "        vertical-align: middle;\n",
              "    }\n",
              "\n",
              "    .dataframe tbody tr th {\n",
              "        vertical-align: top;\n",
              "    }\n",
              "\n",
              "    .dataframe thead th {\n",
              "        text-align: right;\n",
              "    }\n",
              "</style>\n",
              "<table border=\"1\" class=\"dataframe\">\n",
              "  <thead>\n",
              "    <tr style=\"text-align: right;\">\n",
              "      <th></th>\n",
              "      <th>df_resid</th>\n",
              "      <th>ssr</th>\n",
              "      <th>df_diff</th>\n",
              "      <th>ss_diff</th>\n",
              "      <th>F</th>\n",
              "      <th>Pr(&gt;F)</th>\n",
              "    </tr>\n",
              "  </thead>\n",
              "  <tbody>\n",
              "    <tr>\n",
              "      <th>0</th>\n",
              "      <td>503.0</td>\n",
              "      <td>19168.128609</td>\n",
              "      <td>0.0</td>\n",
              "      <td>NaN</td>\n",
              "      <td>NaN</td>\n",
              "      <td>NaN</td>\n",
              "    </tr>\n",
              "    <tr>\n",
              "      <th>1</th>\n",
              "      <td>502.0</td>\n",
              "      <td>18977.716145</td>\n",
              "      <td>1.0</td>\n",
              "      <td>190.412464</td>\n",
              "      <td>5.036805</td>\n",
              "      <td>0.025249</td>\n",
              "    </tr>\n",
              "  </tbody>\n",
              "</table>\n",
              "</div>"
            ],
            "text/plain": [
              "   df_resid           ssr  df_diff     ss_diff         F    Pr(>F)\n",
              "0     503.0  19168.128609      0.0         NaN       NaN       NaN\n",
              "1     502.0  18977.716145      1.0  190.412464  5.036805  0.025249"
            ]
          },
          "execution_count": 12,
          "metadata": {},
          "output_type": "execute_result"
        }
      ],
      "source": [
        "anova_lm(results1,results2)"
      ]
    },
    {
      "cell_type": "code",
      "execution_count": 13,
      "id": "235576f5",
      "metadata": {},
      "outputs": [
        {
          "data": {
            "text/html": [
              "<div>\n",
              "<style scoped>\n",
              "    .dataframe tbody tr th:only-of-type {\n",
              "        vertical-align: middle;\n",
              "    }\n",
              "\n",
              "    .dataframe tbody tr th {\n",
              "        vertical-align: top;\n",
              "    }\n",
              "\n",
              "    .dataframe thead th {\n",
              "        text-align: right;\n",
              "    }\n",
              "</style>\n",
              "<table border=\"1\" class=\"dataframe\">\n",
              "  <thead>\n",
              "    <tr style=\"text-align: right;\">\n",
              "      <th></th>\n",
              "      <th>coef</th>\n",
              "      <th>std err</th>\n",
              "      <th>t</th>\n",
              "      <th>P&gt;|t|</th>\n",
              "    </tr>\n",
              "  </thead>\n",
              "  <tbody>\n",
              "    <tr>\n",
              "      <th>intercept</th>\n",
              "      <td>6.5756</td>\n",
              "      <td>1.009</td>\n",
              "      <td>6.519</td>\n",
              "      <td>0.000</td>\n",
              "    </tr>\n",
              "    <tr>\n",
              "      <th>CompPrice</th>\n",
              "      <td>0.0929</td>\n",
              "      <td>0.004</td>\n",
              "      <td>22.567</td>\n",
              "      <td>0.000</td>\n",
              "    </tr>\n",
              "    <tr>\n",
              "      <th>Income</th>\n",
              "      <td>0.0109</td>\n",
              "      <td>0.003</td>\n",
              "      <td>4.183</td>\n",
              "      <td>0.000</td>\n",
              "    </tr>\n",
              "    <tr>\n",
              "      <th>Advertising</th>\n",
              "      <td>0.0702</td>\n",
              "      <td>0.023</td>\n",
              "      <td>3.107</td>\n",
              "      <td>0.002</td>\n",
              "    </tr>\n",
              "    <tr>\n",
              "      <th>Population</th>\n",
              "      <td>0.0002</td>\n",
              "      <td>0.000</td>\n",
              "      <td>0.433</td>\n",
              "      <td>0.665</td>\n",
              "    </tr>\n",
              "    <tr>\n",
              "      <th>Price</th>\n",
              "      <td>-0.1008</td>\n",
              "      <td>0.007</td>\n",
              "      <td>-13.549</td>\n",
              "      <td>0.000</td>\n",
              "    </tr>\n",
              "    <tr>\n",
              "      <th>ShelveLoc[Good]</th>\n",
              "      <td>4.8487</td>\n",
              "      <td>0.153</td>\n",
              "      <td>31.724</td>\n",
              "      <td>0.000</td>\n",
              "    </tr>\n",
              "    <tr>\n",
              "      <th>ShelveLoc[Medium]</th>\n",
              "      <td>1.9533</td>\n",
              "      <td>0.126</td>\n",
              "      <td>15.531</td>\n",
              "      <td>0.000</td>\n",
              "    </tr>\n",
              "    <tr>\n",
              "      <th>Age</th>\n",
              "      <td>-0.0579</td>\n",
              "      <td>0.016</td>\n",
              "      <td>-3.633</td>\n",
              "      <td>0.000</td>\n",
              "    </tr>\n",
              "    <tr>\n",
              "      <th>Education</th>\n",
              "      <td>-0.0209</td>\n",
              "      <td>0.020</td>\n",
              "      <td>-1.063</td>\n",
              "      <td>0.288</td>\n",
              "    </tr>\n",
              "    <tr>\n",
              "      <th>Urban[Yes]</th>\n",
              "      <td>0.1402</td>\n",
              "      <td>0.112</td>\n",
              "      <td>1.247</td>\n",
              "      <td>0.213</td>\n",
              "    </tr>\n",
              "    <tr>\n",
              "      <th>US[Yes]</th>\n",
              "      <td>-0.1576</td>\n",
              "      <td>0.149</td>\n",
              "      <td>-1.058</td>\n",
              "      <td>0.291</td>\n",
              "    </tr>\n",
              "    <tr>\n",
              "      <th>Income:Advertising</th>\n",
              "      <td>0.0008</td>\n",
              "      <td>0.000</td>\n",
              "      <td>2.698</td>\n",
              "      <td>0.007</td>\n",
              "    </tr>\n",
              "    <tr>\n",
              "      <th>Price:Age</th>\n",
              "      <td>0.0001</td>\n",
              "      <td>0.000</td>\n",
              "      <td>0.801</td>\n",
              "      <td>0.424</td>\n",
              "    </tr>\n",
              "  </tbody>\n",
              "</table>\n",
              "</div>"
            ],
            "text/plain": [
              "                      coef  std err       t  P>|t|\n",
              "intercept           6.5756    1.009   6.519  0.000\n",
              "CompPrice           0.0929    0.004  22.567  0.000\n",
              "Income              0.0109    0.003   4.183  0.000\n",
              "Advertising         0.0702    0.023   3.107  0.002\n",
              "Population          0.0002    0.000   0.433  0.665\n",
              "Price              -0.1008    0.007 -13.549  0.000\n",
              "ShelveLoc[Good]     4.8487    0.153  31.724  0.000\n",
              "ShelveLoc[Medium]   1.9533    0.126  15.531  0.000\n",
              "Age                -0.0579    0.016  -3.633  0.000\n",
              "Education          -0.0209    0.020  -1.063  0.288\n",
              "Urban[Yes]          0.1402    0.112   1.247  0.213\n",
              "US[Yes]            -0.1576    0.149  -1.058  0.291\n",
              "Income:Advertising  0.0008    0.000   2.698  0.007\n",
              "Price:Age           0.0001    0.000   0.801  0.424"
            ]
          },
          "execution_count": 13,
          "metadata": {},
          "output_type": "execute_result"
        }
      ],
      "source": [
        "Carseats = pd.read_csv(\"data/Carseats.csv\")\n",
        "\n",
        "allvars = list(Carseats.columns.drop('Sales'))\n",
        "y = Carseats['Sales']\n",
        "\n",
        "X = transform_df_for_model(Carseats, allvars,[('Income', 'Advertising'),\n",
        "                   ('Price', 'Age')])\n",
        "model = sm.OLS(y, X)\n",
        "summarize(model.fit())"
      ]
    },
    {
      "cell_type": "markdown",
      "id": "ebeb7a0e",
      "metadata": {},
      "source": [
        "# Split\n"
      ]
    },
    {
      "cell_type": "code",
      "execution_count": 14,
      "id": "319159c0",
      "metadata": {},
      "outputs": [],
      "source": [
        "Auto = pd.read_csv('data/Auto.csv')\n",
        "Auto_train, Auto_test = train_test_split(Auto,\n",
        "                                         test_size=196,\n",
        "                                         random_state=0)"
      ]
    },
    {
      "cell_type": "markdown",
      "id": "e9ab7a7c",
      "metadata": {},
      "source": [
        "## use of partial"
      ]
    },
    {
      "cell_type": "code",
      "execution_count": 15,
      "id": "5315c27d",
      "metadata": {},
      "outputs": [],
      "source": [
        "hp_mm = partial(transform_df_for_model, terms = ['horsepower'])\n",
        "X_train = hp_mm(Auto_train)\n",
        "y_train = Auto_train['mpg']\n",
        "model = sm.OLS(y_train, X_train)\n",
        "results = model.fit()"
      ]
    },
    {
      "cell_type": "code",
      "execution_count": 16,
      "id": "dbe0f828",
      "metadata": {},
      "outputs": [
        {
          "data": {
            "text/plain": [
              "23.616617069669893"
            ]
          },
          "execution_count": 16,
          "metadata": {},
          "output_type": "execute_result"
        }
      ],
      "source": [
        "X_test = hp_mm(Auto_test)\n",
        "y_test = Auto_test['mpg']\n",
        "test_pred = results.predict(X_test)\n",
        "np.mean((y_test - test_pred)**2).item()"
      ]
    },
    {
      "cell_type": "markdown",
      "id": "44e40017",
      "metadata": {},
      "source": [
        "## Function to compute MSE"
      ]
    },
    {
      "cell_type": "code",
      "execution_count": 17,
      "id": "4deebfb6",
      "metadata": {},
      "outputs": [],
      "source": [
        "def evalMSE(terms,\n",
        "            response,\n",
        "            train,\n",
        "            test):\n",
        "\n",
        "   mm_transform = partial(transform_df_for_model, terms = terms)\n",
        "   X_train = mm_transform(train)\n",
        "   y_train = train[response]\n",
        "\n",
        "   X_test = mm_transform(test)\n",
        "   y_test = test[response]\n",
        "\n",
        "   results = sm.OLS(y_train, X_train).fit()\n",
        "   test_pred = results.predict(X_test)\n",
        "\n",
        "   return np.mean((y_test - test_pred)**2).item()"
      ]
    },
    {
      "cell_type": "code",
      "execution_count": 18,
      "id": "d70a2507",
      "metadata": {},
      "outputs": [
        {
          "data": {
            "text/plain": [
              "20.15359485880563"
            ]
          },
          "execution_count": 18,
          "metadata": {},
          "output_type": "execute_result"
        }
      ],
      "source": [
        "evalMSE(terms =['horsepower','cylinders'],response ='mpg',train = Auto_train, test=Auto_test)"
      ]
    },
    {
      "cell_type": "code",
      "execution_count": 20,
      "id": "15768c2c",
      "metadata": {},
      "outputs": [
        {
          "data": {
            "text/plain": [
              "np.float64(24.231513517929226)"
            ]
          },
          "execution_count": 20,
          "metadata": {},
          "output_type": "execute_result"
        }
      ],
      "source": [
        "Auto = pd.read_csv(\"data/Auto.csv\")\n",
        "from sklearn.model_selection import \\\n",
        "     (cross_validate,\n",
        "      KFold,\n",
        "      ShuffleSplit)\n",
        "hp_model = make_pipeline(\n",
        "    CustomDataTransformer(['horsepower']),\n",
        "    sklearn_sm(sm.OLS))\n",
        "\n",
        "X, Y = Auto.drop(columns=['mpg']), Auto['mpg']\n",
        "cv_results = cross_validate(hp_model,\n",
        "                            X,\n",
        "                            Y,\n",
        "                            cv=Auto.shape[0])\n",
        "cv_err = np.mean(cv_results['test_score'])\n",
        "cv_err"
      ]
    },
    {
      "cell_type": "code",
      "execution_count": 21,
      "id": "6ff03b7a",
      "metadata": {},
      "outputs": [
        {
          "name": "stdout",
          "output_type": "stream",
          "text": [
            "Scores de validation croisée (MSE négatif) : [-22.15323712 -29.14787841 -26.67385214 -19.52413152 -23.60002108]\n",
            "MSE moyen : 24.219824054860855\n"
          ]
        }
      ],
      "source": [
        "from sklearn.pipeline import make_pipeline\n",
        "from sklearn.model_selection import cross_val_score, KFold\n",
        "import pandas as pd\n",
        "\n",
        "# 📌 Charger les données\n",
        "Auto = pd.read_csv(\"data/Auto.csv\")\n",
        "X, Y = Auto.drop(columns=['mpg']), Auto['mpg']\n",
        "\n",
        "# 📌 Variables pour la transformation\n",
        "terms = ['horsepower']\n",
        "\n",
        "# 📌 Définir le pipeline\n",
        "pipeline = make_pipeline(\n",
        "    CustomDataTransformer(terms),\n",
        "sklearn_sm(sm.OLS))\n",
        "\n",
        "# 📌 Validation croisée\n",
        "cv = KFold(n_splits=5, shuffle=True, random_state=42)\n",
        "scores = cross_val_score(pipeline, X, Y, cv=cv, scoring=\"neg_mean_squared_error\")  # MSE négatif\n",
        "\n",
        "# 📌 Affichage des résultats\n",
        "print(\"Scores de validation croisée (MSE négatif) :\", scores)\n",
        "print(\"MSE moyen :\", -np.mean(scores))  # Convertir en MSE positif\n",
        "\n"
      ]
    },
    {
      "cell_type": "code",
      "execution_count": 22,
      "id": "05b75513",
      "metadata": {},
      "outputs": [
        {
          "data": {
            "text/plain": [
              "array([24.23151352, 19.24821312, 19.33498406, 19.4244303 , 19.03321527])"
            ]
          },
          "execution_count": 22,
          "metadata": {},
          "output_type": "execute_result"
        }
      ],
      "source": [
        "cv_error = np.zeros(5)\n",
        "H = np.array(Auto['horsepower'])\n",
        "M = sklearn_sm(sm.OLS)\n",
        "for i, d in enumerate(range(1,6)):\n",
        "    X = np.power.outer(H, np.arange(d+1))\n",
        "    M_CV = cross_validate(M,\n",
        "                          X,\n",
        "                          Y,\n",
        "                          cv=Auto.shape[0])\n",
        "    cv_error[i] = np.mean(M_CV['test_score'])\n",
        "cv_error"
      ]
    },
    {
      "cell_type": "code",
      "execution_count": 23,
      "id": "8840b5e3",
      "metadata": {},
      "outputs": [
        {
          "data": {
            "text/plain": [
              "array([24.20766449, 19.18533142, 19.27626666, 19.47848402, 19.13718373])"
            ]
          },
          "execution_count": 23,
          "metadata": {},
          "output_type": "execute_result"
        }
      ],
      "source": [
        "cv_error = np.zeros(5)\n",
        "cv = KFold(n_splits=10,\n",
        "           shuffle=True,\n",
        "           random_state=0) # use same splits for each degree\n",
        "for i, d in enumerate(range(1,6)):\n",
        "    X = np.power.outer(H, np.arange(d+1))\n",
        "    M_CV = cross_validate(M,\n",
        "                          X,\n",
        "                          Y,\n",
        "                          cv=cv)\n",
        "    cv_error[i] = np.mean(M_CV['test_score'])\n",
        "cv_error"
      ]
    },
    {
      "cell_type": "code",
      "execution_count": 24,
      "id": "56968599",
      "metadata": {},
      "outputs": [],
      "source": [
        "# 📌 Définir le pipeline\n",
        "hp_model = make_pipeline(\n",
        "    CustomDataTransformer(terms),\n",
        "sklearn_sm(sm.OLS))"
      ]
    },
    {
      "cell_type": "code",
      "execution_count": 25,
      "id": "e0eda531",
      "metadata": {},
      "outputs": [
        {
          "data": {
            "text/plain": [
              "array([23.61661707])"
            ]
          },
          "execution_count": 25,
          "metadata": {},
          "output_type": "execute_result"
        }
      ],
      "source": [
        "validation = ShuffleSplit(n_splits=1,\n",
        "                          test_size=196,\n",
        "                          random_state=0)\n",
        "results = cross_validate(hp_model,\n",
        "                         Auto.drop(['mpg'], axis=1),\n",
        "                         Auto['mpg'],\n",
        "                         cv=validation)\n",
        "results['test_score']"
      ]
    }
  ],
  "metadata": {
    "kernelspec": {
      "display_name": "venv",
      "language": "python",
      "name": "python3"
    },
    "language_info": {
      "codemirror_mode": {
        "name": "ipython",
        "version": 3
      },
      "file_extension": ".py",
      "mimetype": "text/x-python",
      "name": "python",
      "nbconvert_exporter": "python",
      "pygments_lexer": "ipython3",
      "version": "3.9.12"
    }
  },
  "nbformat": 4,
  "nbformat_minor": 5
}
